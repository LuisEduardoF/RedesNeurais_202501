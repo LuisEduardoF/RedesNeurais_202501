{
  "cells": [
    {
      "cell_type": "markdown",
      "metadata": {
        "id": "wOE2WTDAkagT"
      },
      "source": [
        "# 🧠🤖 Treinamento de Redes LSTM para Classificação\n",
        "\n",
        "- **Deadline**: 24/08/2025\n",
        "- **Entrega**: O trabalho deve ser entregue via sistema Testr.\n",
        "- **Pontuação**: 50% da nota do T2 (+1 ponto extra).\n",
        "- O trabalho deve ser realizado individualmente.\n",
        "\n"
      ]
    },
    {
      "cell_type": "markdown",
      "metadata": {
        "id": "NU05mfhsQB6Y"
      },
      "source": [
        "## Especificação"
      ]
    },
    {
      "cell_type": "markdown",
      "metadata": {
        "id": "PdAdEyR69fd1"
      },
      "source": [
        "\n",
        "### Contexto\n",
        "\n",
        "O trabalho consiste em realizar o treinamento de redes LSTM usando a base de dados [BBC News Archive disponível no kaggle](https://www.kaggle.com/datasets/hgultekin/bbcnewsarchive?select=bbc-news-data.csv). Esta base de dados contém 2.225 textos publicados no site de notícias da BBC news entre 2004-2005. Cada notícia foi classificada como sendo de um dos seguintes assuntos: business (negócios), entertainment (entretenimento), politics (política), sport (esportes), tech (tecnologia).\n",
        "\n",
        "O objetivo do trabalho é treinar uma rede neural capaz de identificar o tema de um texto.\n"
      ]
    },
    {
      "cell_type": "markdown",
      "metadata": {
        "id": "WFp13N65dlnF"
      },
      "source": [
        "### Implementação\n",
        "\n",
        "- Use o notebook de classificação de sentimentos como ponto de partida.\n",
        "- use a biblioteca `kagglehub` para fazer o download do dataset no colab.\n",
        "- Um dos modelos de *word embeddings* disponíveis na biblioteca `gensim` deve ser utilizado para mapear palavras em vetores.\n",
        "- Use o tipo `nn.LSTM` disponível no `pytorch` (não é necessário implementar a camada LSTM do zero).\n",
        "- Os dados devem ser divididos em treino, validação e teste. Use o conjunto de validação para ajustar hiperparâmetros e para selecionar o modelo com melhor generalização. Avalie o modelo resultante usando o conjunto de teste apenas ao final.\n",
        "- Você pode optar por cortar os textos em um tamanho máximo (e.g., 100 palavras), como fizemos no notebook, para que os testes não demorem muito.\n",
        "- Use o ambiente de `GPU` do colab para evitar que o treinamento demore excessivamente.\n",
        "- Durante o desenvolvimento, é uma boa idéia usar um subconjunto (e.g., 10%) das notícias para que os testes sejam mais rápidos. Quando tudo estiver correto, faça o treinamento com a base completa.\n",
        "- Deve ser plotado o gráfico mostrando a evolução da função de perda nos conjuntos de treino e validação.\n",
        "- Devem ser mostradas as métricas geradas pela função `classification_report` da biblioteca scikit-learn e a matriz de confusão para o conjunto de teste.\n",
        "- Faça alguns testes qualitativos com textos escritos com você (não use textos da base de dados).\n",
        "- Discuta brevemente os resultados quantitativos e qualitativos (1-2 parágrafos, no máximo).\n"
      ]
    },
    {
      "cell_type": "markdown",
      "metadata": {
        "id": "ccJn9-T_Ts6e"
      },
      "source": [
        "\n",
        "### Pontos Extras\n",
        "\n",
        "Receberá um ponto extra, o aluno que:\n",
        "- Utilizar um LLM baseado em Transformer pré-treinado (e.g., [BERT](https://medium.com/@davidlfliang/intro-getting-started-with-text-embeddings-using-bert-9f8c3b98dee6)) para mapear as notícias em *embeddings*.\n",
        "- Utilizar uma rede Multilayer Perceptron para classificar os *embeddings*.\n",
        "- Comparar a performance desta solução com a LSTM.\n",
        "\n",
        "⚠️**IMPORTANTE**⚠️\n",
        "- Não é necessário (nem recomendável considerando o prazo) tentar realizar *fine-tuning* do LLM pré-treinado.\n",
        "- Estes modelos são SUPER-ULTRA-MASTER-BLASTER lentos na CPU. Use o ambiente de GPU do colab para evitar ficar 20h esperando para transformar os textos em *embeddings*.\n",
        "- Salve os embeddings depois da geração para evitar ter que gerá-los novamente. Quando necessário, faça upload do arquivo novamente para o colab."
      ]
    },
    {
      "cell_type": "code",
      "execution_count": 9,
      "metadata": {
        "colab": {
          "base_uri": "https://localhost:8080/"
        },
        "id": "635b79b4",
        "outputId": "24082da2-ccb4-42f0-91cd-040cb65037d7"
      },
      "outputs": [
        {
          "name": "stdout",
          "output_type": "stream",
          "text": [
            "Requirement already satisfied: gensim in ./venv/lib/python3.12/site-packages (4.3.3)\n",
            "Requirement already satisfied: numpy<2.0,>=1.18.5 in ./venv/lib/python3.12/site-packages (from gensim) (1.26.4)\n",
            "Requirement already satisfied: scipy<1.14.0,>=1.7.0 in ./venv/lib/python3.12/site-packages (from gensim) (1.13.1)\n",
            "Requirement already satisfied: smart-open>=1.8.1 in ./venv/lib/python3.12/site-packages (from gensim) (7.3.0.post1)\n",
            "Requirement already satisfied: wrapt in ./venv/lib/python3.12/site-packages (from smart-open>=1.8.1->gensim) (1.17.2)\n",
            "Requirement already satisfied: numpy<2.0,>=1.18.5 in ./venv/lib/python3.12/site-packages (from gensim) (1.26.4)\n",
            "Requirement already satisfied: scipy<1.14.0,>=1.7.0 in ./venv/lib/python3.12/site-packages (from gensim) (1.13.1)\n",
            "Requirement already satisfied: smart-open>=1.8.1 in ./venv/lib/python3.12/site-packages (from gensim) (7.3.0.post1)\n",
            "Requirement already satisfied: wrapt in ./venv/lib/python3.12/site-packages (from smart-open>=1.8.1->gensim) (1.17.2)\n"
          ]
        }
      ],
      "source": [
        "# Instalação de bibliotecas necessárias (executar apenas uma vez)\n",
        "!pip install -q kagglehub gensim torch torchvision torchaudio scikit-learn nltk\n",
        "!pip install -U gensim # Problema com a biblioteca gensim para instalacao..."
      ]
    },
    {
      "cell_type": "code",
      "execution_count": 10,
      "metadata": {
        "colab": {
          "base_uri": "https://localhost:8080/"
        },
        "id": "55HqWFrQqtUq",
        "outputId": "1fbd8fa3-248f-4002-95b7-994ace220a2e"
      },
      "outputs": [
        {
          "name": "stderr",
          "output_type": "stream",
          "text": [
            "[nltk_data] Downloading package stopwords to /home/luise/nltk_data...\n",
            "[nltk_data]   Package stopwords is already up-to-date!\n"
          ]
        }
      ],
      "source": [
        "import pandas as pd\n",
        "import numpy as np\n",
        "import torch\n",
        "import torch.nn as nn\n",
        "import torch.optim as optim\n",
        "from sklearn.model_selection import train_test_split\n",
        "from sklearn.preprocessing import LabelEncoder\n",
        "from torch.utils.data import Dataset, DataLoader\n",
        "from torch.nn.utils.rnn import pad_sequence\n",
        "from gensim.models import KeyedVectors\n",
        "from gensim import downloader as api\n",
        "import nltk\n",
        "from nltk.corpus import stopwords\n",
        "nltk.download('stopwords')\n",
        "stop_words = set(stopwords.words('english'))\n",
        "\n",
        "import re\n",
        "import string\n",
        "\n",
        "import os\n",
        "import pandas as pd\n",
        "from tqdm.auto import tqdm\n",
        "tqdm.pandas()"
      ]
    },
    {
      "cell_type": "markdown",
      "metadata": {
        "id": "LZRYjr7DePou"
      },
      "source": [
        "## Preparação do Dataset"
      ]
    },
    {
      "cell_type": "code",
      "execution_count": 11,
      "metadata": {
        "colab": {
          "base_uri": "https://localhost:8080/",
          "height": 206
        },
        "id": "2dfd412c",
        "outputId": "479dcf00-9c4d-4c7d-c23e-3e244eb7d54b"
      },
      "outputs": [
        {
          "data": {
            "text/html": [
              "<div>\n",
              "<style scoped>\n",
              "    .dataframe tbody tr th:only-of-type {\n",
              "        vertical-align: middle;\n",
              "    }\n",
              "\n",
              "    .dataframe tbody tr th {\n",
              "        vertical-align: top;\n",
              "    }\n",
              "\n",
              "    .dataframe thead th {\n",
              "        text-align: right;\n",
              "    }\n",
              "</style>\n",
              "<table border=\"1\" class=\"dataframe\">\n",
              "  <thead>\n",
              "    <tr style=\"text-align: right;\">\n",
              "      <th></th>\n",
              "      <th>category</th>\n",
              "      <th>filename</th>\n",
              "      <th>title</th>\n",
              "      <th>content</th>\n",
              "    </tr>\n",
              "  </thead>\n",
              "  <tbody>\n",
              "    <tr>\n",
              "      <th>0</th>\n",
              "      <td>business</td>\n",
              "      <td>001.txt</td>\n",
              "      <td>Ad sales boost Time Warner profit</td>\n",
              "      <td>Quarterly profits at US media giant TimeWarne...</td>\n",
              "    </tr>\n",
              "    <tr>\n",
              "      <th>1</th>\n",
              "      <td>business</td>\n",
              "      <td>002.txt</td>\n",
              "      <td>Dollar gains on Greenspan speech</td>\n",
              "      <td>The dollar has hit its highest level against ...</td>\n",
              "    </tr>\n",
              "    <tr>\n",
              "      <th>2</th>\n",
              "      <td>business</td>\n",
              "      <td>003.txt</td>\n",
              "      <td>Yukos unit buyer faces loan claim</td>\n",
              "      <td>The owners of embattled Russian oil giant Yuk...</td>\n",
              "    </tr>\n",
              "    <tr>\n",
              "      <th>3</th>\n",
              "      <td>business</td>\n",
              "      <td>004.txt</td>\n",
              "      <td>High fuel prices hit BA's profits</td>\n",
              "      <td>British Airways has blamed high fuel prices f...</td>\n",
              "    </tr>\n",
              "    <tr>\n",
              "      <th>4</th>\n",
              "      <td>business</td>\n",
              "      <td>005.txt</td>\n",
              "      <td>Pernod takeover talk lifts Domecq</td>\n",
              "      <td>Shares in UK drinks and food firm Allied Dome...</td>\n",
              "    </tr>\n",
              "  </tbody>\n",
              "</table>\n",
              "</div>"
            ],
            "text/plain": [
              "   category filename                              title  \\\n",
              "0  business  001.txt  Ad sales boost Time Warner profit   \n",
              "1  business  002.txt   Dollar gains on Greenspan speech   \n",
              "2  business  003.txt  Yukos unit buyer faces loan claim   \n",
              "3  business  004.txt  High fuel prices hit BA's profits   \n",
              "4  business  005.txt  Pernod takeover talk lifts Domecq   \n",
              "\n",
              "                                             content  \n",
              "0   Quarterly profits at US media giant TimeWarne...  \n",
              "1   The dollar has hit its highest level against ...  \n",
              "2   The owners of embattled Russian oil giant Yuk...  \n",
              "3   British Airways has blamed high fuel prices f...  \n",
              "4   Shares in UK drinks and food firm Allied Dome...  "
            ]
          },
          "execution_count": 11,
          "metadata": {},
          "output_type": "execute_result"
        }
      ],
      "source": [
        "# Download do dataset BBC News Archive usando kagglehub\n",
        "# Será feito download e extração do arquivo CSV. Pode demorar alguns minutos.\n",
        "import kagglehub\n",
        "\n",
        "dataset_path = kagglehub.dataset_download(\"hgultekin/bbcnewsarchive\")\n",
        "\n",
        "# Carregar o arquivo CSV em um DataFrame\n",
        "csv_path = None\n",
        "# Procura pelo arquivo CSV dentro do diretório baixado\n",
        "for root, dirs, files in os.walk(dataset_path):\n",
        "    for fname in files:\n",
        "        if fname.endswith('.csv'):\n",
        "            csv_path = os.path.join(root, fname)\n",
        "            break\n",
        "    if csv_path:\n",
        "        break\n",
        "\n",
        "assert csv_path is not None, \"Arquivo CSV não encontrado no dataset\"\n",
        "\n",
        "# Carrega o DataFrame\n",
        "bbc_df = pd.read_csv(csv_path, sep='\\t')\n",
        "bbc_df.head()"
      ]
    },
    {
      "cell_type": "code",
      "execution_count": 12,
      "metadata": {
        "id": "QPIIIIvYugbD"
      },
      "outputs": [],
      "source": [
        "# Testing\n",
        "# bbc_df = bbc_df.sample(frac=1/4, random_state=42)"
      ]
    },
    {
      "cell_type": "code",
      "execution_count": 13,
      "metadata": {
        "id": "3518a969"
      },
      "outputs": [
        {
          "name": "stdout",
          "output_type": "stream",
          "text": [
            "Carregando modelo de embeddings GloVe (dimensão 100)...\n",
            "Modelo carregado! Vocabulário: 400000 palavras\n",
            "Modelo carregado! Vocabulário: 400000 palavras\n"
          ]
        }
      ],
      "source": [
        "# Carrega embeddings pré-treinados do Gensim.\n",
        "# Utilizando GloVe para melhor eficiência e tamanho mais compacto\n",
        "print(\"Carregando modelo de embeddings GloVe (dimensão 100)...\")\n",
        "embedding_model = api.load('glove-wiki-gigaword-100')\n",
        "print(f\"Modelo carregado! Vocabulário: {len(embedding_model.key_to_index)} palavras\")"
      ]
    },
    {
      "cell_type": "code",
      "execution_count": 14,
      "metadata": {},
      "outputs": [
        {
          "data": {
            "text/plain": [
              "category\n",
              "sport            511\n",
              "business         510\n",
              "politics         417\n",
              "tech             401\n",
              "entertainment    386\n",
              "Name: count, dtype: int64"
            ]
          },
          "execution_count": 14,
          "metadata": {},
          "output_type": "execute_result"
        }
      ],
      "source": [
        "# Verificar a distribuição de categorias no dataset\n",
        "bbc_df['category'].value_counts()"
      ]
    },
    {
      "cell_type": "code",
      "execution_count": 15,
      "metadata": {},
      "outputs": [
        {
          "name": "stdout",
          "output_type": "stream",
          "text": [
            "Pré-processando textos...\n"
          ]
        },
        {
          "name": "stderr",
          "output_type": "stream",
          "text": [
            "100%|██████████| 2225/2225 [00:00<00:00, 4089.14it/s]"
          ]
        },
        {
          "name": "stdout",
          "output_type": "stream",
          "text": [
            "Pré-processamento concluído!\n"
          ]
        },
        {
          "name": "stderr",
          "output_type": "stream",
          "text": [
            "\n"
          ]
        }
      ],
      "source": [
        "# Função para pré-processar o texto\n",
        "def preprocess_text(text):\n",
        "    # Converter para minúsculas\n",
        "    text = text.lower()\n",
        "    \n",
        "    # Remover pontuação\n",
        "    text = re.sub(f'[{string.punctuation}]', ' ', text)\n",
        "    \n",
        "    # Remover números\n",
        "    text = re.sub(r'\\d+', '', text)\n",
        "    \n",
        "    # Remover espaços extras\n",
        "    text = re.sub(r'\\s+', ' ', text).strip()\n",
        "    \n",
        "    # Tokenizar\n",
        "    words = text.split()\n",
        "    \n",
        "    # Remover stopwords\n",
        "    words = [word for word in words if word not in stop_words]\n",
        "    \n",
        "    return words\n",
        "\n",
        "# Aplicar a função de pré-processamento ao conteúdo e título\n",
        "print(\"Pré-processando textos...\")\n",
        "bbc_df['processed_content'] = bbc_df['content'].progress_apply(preprocess_text)\n",
        "print(\"Pré-processamento concluído!\")"
      ]
    },
    {
      "cell_type": "code",
      "execution_count": 16,
      "metadata": {},
      "outputs": [
        {
          "name": "stdout",
          "output_type": "stream",
          "text": [
            "Mapeamento das categorias:\n",
            "business: 0\n",
            "entertainment: 1\n",
            "politics: 2\n",
            "sport: 3\n",
            "tech: 4\n",
            "Tamanho do conjunto de treino: 1557\n",
            "Tamanho do conjunto de validação: 334\n",
            "Tamanho do conjunto de teste: 334\n"
          ]
        }
      ],
      "source": [
        "# Codificar as categorias usando LabelEncoder\n",
        "label_encoder = LabelEncoder()\n",
        "bbc_df['category_encoded'] = label_encoder.fit_transform(bbc_df['category'])\n",
        "\n",
        "# Verificar o mapeamento das categorias\n",
        "category_mapping = dict(zip(label_encoder.classes_, label_encoder.transform(label_encoder.classes_)))\n",
        "print(\"Mapeamento das categorias:\")\n",
        "for category, code in category_mapping.items():\n",
        "    print(f\"{category}: {code}\")\n",
        "\n",
        "# Definir o tamanho máximo de sequência (palavras por texto)\n",
        "max_seq_length = 100\n",
        "\n",
        "# Dividir os dados em treino (70%), validação (15%) e teste (15%)\n",
        "train_df, temp_df = train_test_split(bbc_df, test_size=0.3, random_state=42, stratify=bbc_df['category'])\n",
        "val_df, test_df = train_test_split(temp_df, test_size=0.5, random_state=42, stratify=temp_df['category'])\n",
        "\n",
        "print(f\"Tamanho do conjunto de treino: {len(train_df)}\")\n",
        "print(f\"Tamanho do conjunto de validação: {len(val_df)}\")\n",
        "print(f\"Tamanho do conjunto de teste: {len(test_df)}\")"
      ]
    },
    {
      "cell_type": "code",
      "execution_count": 17,
      "metadata": {},
      "outputs": [],
      "source": [
        "# Criar uma classe de dataset personalizada para os textos\n",
        "class NewsDataset(Dataset):\n",
        "    def __init__(self, dataframe, embedding_model, max_seq_length):\n",
        "        self.data = dataframe\n",
        "        self.embedding_model = embedding_model\n",
        "        self.max_seq_length = max_seq_length\n",
        "        self.embedding_dim = embedding_model.vector_size\n",
        "        \n",
        "    def __len__(self):\n",
        "        return len(self.data)\n",
        "    \n",
        "    def __getitem__(self, idx):\n",
        "        text = self.data.iloc[idx]['processed_content']\n",
        "        label = self.data.iloc[idx]['category_encoded']\n",
        "        \n",
        "        # Limitar o tamanho do texto ao máximo definido\n",
        "        text = text[:self.max_seq_length]\n",
        "        \n",
        "        # Converter palavras para embeddings\n",
        "        embeddings = []\n",
        "        for word in text:\n",
        "            if word in self.embedding_model:\n",
        "                embeddings.append(torch.tensor(self.embedding_model[word], dtype=torch.float))\n",
        "            else:\n",
        "                # Vetor de zeros para palavras desconhecidas\n",
        "                embeddings.append(torch.zeros(self.embedding_dim))\n",
        "        \n",
        "        # Se não houver palavras válidas, criar um tensor de zeros\n",
        "        if not embeddings:\n",
        "            embeddings = [torch.zeros(self.embedding_dim)]\n",
        "        \n",
        "        # Converter para tensor\n",
        "        embeddings = torch.stack(embeddings)\n",
        "        \n",
        "        return {\n",
        "            'embeddings': embeddings,\n",
        "            'label': torch.tensor(label, dtype=torch.long),\n",
        "            'length': torch.tensor(len(embeddings), dtype=torch.long)\n",
        "        }\n",
        "\n",
        "# Função para padding na criação de batches\n",
        "def collate_fn(batch):\n",
        "    # Extrair embeddings e labels\n",
        "    embeddings = [item['embeddings'] for item in batch]\n",
        "    labels = torch.stack([item['label'] for item in batch])\n",
        "    lengths = torch.stack([item['length'] for item in batch])\n",
        "    \n",
        "    # Aplicar padding\n",
        "    embeddings_padded = pad_sequence(embeddings, batch_first=True)\n",
        "    \n",
        "    return {\n",
        "        'embeddings': embeddings_padded,\n",
        "        'label': labels,\n",
        "        'length': lengths\n",
        "    }"
      ]
    },
    {
      "cell_type": "code",
      "execution_count": 18,
      "metadata": {},
      "outputs": [
        {
          "name": "stdout",
          "output_type": "stream",
          "text": [
            "Dispositivo utilizado: cpu\n"
          ]
        }
      ],
      "source": [
        "# Criar datasets\n",
        "train_dataset = NewsDataset(train_df, embedding_model, max_seq_length)\n",
        "val_dataset = NewsDataset(val_df, embedding_model, max_seq_length)\n",
        "test_dataset = NewsDataset(test_df, embedding_model, max_seq_length)\n",
        "\n",
        "# Definir tamanho de batch\n",
        "batch_size = 32\n",
        "\n",
        "# Criar dataloaders\n",
        "train_loader = DataLoader(train_dataset, batch_size=batch_size, shuffle=True, collate_fn=collate_fn)\n",
        "val_loader = DataLoader(val_dataset, batch_size=batch_size, collate_fn=collate_fn)\n",
        "test_loader = DataLoader(test_dataset, batch_size=batch_size, collate_fn=collate_fn)\n",
        "\n",
        "# Verificar se temos GPU disponível\n",
        "device = torch.device('cuda' if torch.cuda.is_available() else 'cpu')\n",
        "print(f\"Dispositivo utilizado: {device}\")"
      ]
    },
    {
      "cell_type": "code",
      "execution_count": 19,
      "metadata": {},
      "outputs": [
        {
          "name": "stdout",
          "output_type": "stream",
          "text": [
            "LSTMClassifier(\n",
            "  (lstm): LSTM(100, 128, num_layers=2, batch_first=True, dropout=0.5, bidirectional=True)\n",
            "  (fc): Linear(in_features=256, out_features=5, bias=True)\n",
            "  (dropout): Dropout(p=0.5, inplace=False)\n",
            ")\n"
          ]
        }
      ],
      "source": [
        "# Definir o modelo LSTM\n",
        "class LSTMClassifier(nn.Module):\n",
        "    def __init__(self, embedding_dim, hidden_dim, output_dim, num_layers, dropout):\n",
        "        super().__init__()\n",
        "        \n",
        "        # Camada LSTM\n",
        "        self.lstm = nn.LSTM(embedding_dim, \n",
        "                          hidden_dim, \n",
        "                          num_layers=num_layers, \n",
        "                          bidirectional=True,\n",
        "                          dropout=dropout if num_layers > 1 else 0,\n",
        "                          batch_first=True)\n",
        "        \n",
        "        # Camada de classificação - bidirectional duplica a dimensão\n",
        "        self.fc = nn.Linear(hidden_dim * 2, output_dim)\n",
        "        \n",
        "        # Dropout\n",
        "        self.dropout = nn.Dropout(dropout)\n",
        "        \n",
        "    def forward(self, embeddings, lengths):\n",
        "        # Pack padded para lidar com sequências de tamanhos variados\n",
        "        packed_embeddings = nn.utils.rnn.pack_padded_sequence(\n",
        "            embeddings, lengths.cpu().numpy(), batch_first=True, enforce_sorted=False\n",
        "        )\n",
        "        \n",
        "        # Passar pela LSTM\n",
        "        packed_output, (hidden, cell) = self.lstm(packed_embeddings)\n",
        "        \n",
        "        # Concatenar os hidden states finais das direções forward e backward\n",
        "        hidden = self.dropout(torch.cat((hidden[-2,:,:], hidden[-1,:,:]), dim=1))\n",
        "        \n",
        "        # Passar pelo classificador\n",
        "        output = self.fc(hidden)\n",
        "        \n",
        "        return output\n",
        "\n",
        "# Hiperparâmetros do modelo\n",
        "hidden_dim = 128\n",
        "num_layers = 2\n",
        "dropout = 0.5\n",
        "embedding_dim = embedding_model.vector_size\n",
        "output_dim = len(label_encoder.classes_)\n",
        "\n",
        "# Instanciar o modelo\n",
        "model = LSTMClassifier(\n",
        "    embedding_dim=embedding_dim,\n",
        "    hidden_dim=hidden_dim,\n",
        "    output_dim=output_dim,\n",
        "    num_layers=num_layers,\n",
        "    dropout=dropout\n",
        ")\n",
        "\n",
        "# Mover modelo para GPU se disponível\n",
        "model = model.to(device)\n",
        "print(model)"
      ]
    },
    {
      "cell_type": "code",
      "execution_count": 20,
      "metadata": {},
      "outputs": [],
      "source": [
        "# Definir critério de perda e otimizador\n",
        "criterion = nn.CrossEntropyLoss()\n",
        "optimizer = optim.Adam(model.parameters(), lr=0.001)\n",
        "\n",
        "# Função para calcular a acurácia\n",
        "def calculate_accuracy(outputs, labels):\n",
        "    _, preds = torch.max(outputs, dim=1)\n",
        "    return torch.sum(preds == labels).item() / len(labels)\n",
        "\n",
        "# Função para treinar o modelo\n",
        "def train(model, iterator, optimizer, criterion, device):\n",
        "    model.train()\n",
        "    epoch_loss = 0\n",
        "    epoch_acc = 0\n",
        "    \n",
        "    for batch in tqdm(iterator, desc=\"Treinando\"):\n",
        "        # Obter dados do batch\n",
        "        embeddings = batch['embeddings'].to(device)\n",
        "        labels = batch['label'].to(device)\n",
        "        lengths = batch['length']\n",
        "        \n",
        "        # Zerar gradientes\n",
        "        optimizer.zero_grad()\n",
        "        \n",
        "        # Forward pass\n",
        "        outputs = model(embeddings, lengths)\n",
        "        \n",
        "        # Calcular perda\n",
        "        loss = criterion(outputs, labels)\n",
        "        \n",
        "        # Backward pass e otimização\n",
        "        loss.backward()\n",
        "        optimizer.step()\n",
        "        \n",
        "        # Calcular acurácia\n",
        "        acc = calculate_accuracy(outputs, labels)\n",
        "        \n",
        "        # Acumular estatísticas\n",
        "        epoch_loss += loss.item()\n",
        "        epoch_acc += acc\n",
        "        \n",
        "    # Retornar médias\n",
        "    return epoch_loss / len(iterator), epoch_acc / len(iterator)\n",
        "\n",
        "# Função para avaliar o modelo\n",
        "def evaluate(model, iterator, criterion, device):\n",
        "    model.eval()\n",
        "    epoch_loss = 0\n",
        "    epoch_acc = 0\n",
        "    \n",
        "    with torch.no_grad():\n",
        "        for batch in tqdm(iterator, desc=\"Avaliando\"):\n",
        "            # Obter dados do batch\n",
        "            embeddings = batch['embeddings'].to(device)\n",
        "            labels = batch['label'].to(device)\n",
        "            lengths = batch['length']\n",
        "            \n",
        "            # Forward pass\n",
        "            outputs = model(embeddings, lengths)\n",
        "            \n",
        "            # Calcular perda\n",
        "            loss = criterion(outputs, labels)\n",
        "            \n",
        "            # Calcular acurácia\n",
        "            acc = calculate_accuracy(outputs, labels)\n",
        "            \n",
        "            # Acumular estatísticas\n",
        "            epoch_loss += loss.item()\n",
        "            epoch_acc += acc\n",
        "        \n",
        "    # Retornar médias\n",
        "    return epoch_loss / len(iterator), epoch_acc / len(iterator)"
      ]
    },
    {
      "cell_type": "code",
      "execution_count": null,
      "metadata": {},
      "outputs": [
        {
          "name": "stdout",
          "output_type": "stream",
          "text": [
            "\n",
            "Época 1/10\n"
          ]
        },
        {
          "name": "stderr",
          "output_type": "stream",
          "text": [
            "Treinando: 100%|██████████| 49/49 [00:44<00:00,  1.11it/s]\n",
            "Avaliando: 100%|██████████| 11/11 [00:01<00:00,  8.07it/s]\n"
          ]
        },
        {
          "name": "stdout",
          "output_type": "stream",
          "text": [
            "Treino - Perda: 0.9331, Acurácia: 0.6559\n",
            "Validação - Perda: 0.5106, Acurácia: 0.8466\n",
            "\n",
            "Época 2/10\n"
          ]
        },
        {
          "name": "stderr",
          "output_type": "stream",
          "text": [
            "Treinando: 100%|██████████| 49/49 [00:48<00:00,  1.02it/s]\n",
            "Avaliando: 100%|██████████| 11/11 [00:01<00:00,  5.74it/s]\n"
          ]
        },
        {
          "name": "stdout",
          "output_type": "stream",
          "text": [
            "Treino - Perda: 0.2942, Acurácia: 0.9046\n",
            "Validação - Perda: 0.1930, Acurácia: 0.9517\n",
            "\n",
            "Época 3/10\n"
          ]
        },
        {
          "name": "stderr",
          "output_type": "stream",
          "text": [
            "Treinando: 100%|██████████| 49/49 [00:48<00:00,  1.02it/s]\n",
            "Avaliando: 100%|██████████| 11/11 [00:01<00:00,  5.75it/s]\n"
          ]
        },
        {
          "name": "stdout",
          "output_type": "stream",
          "text": [
            "Treino - Perda: 0.1576, Acurácia: 0.9455\n",
            "Validação - Perda: 0.1585, Acurácia: 0.9545\n",
            "\n",
            "Época 4/10\n"
          ]
        },
        {
          "name": "stderr",
          "output_type": "stream",
          "text": [
            "Treinando: 100%|██████████| 49/49 [00:43<00:00,  1.12it/s]\n",
            "Avaliando: 100%|██████████| 11/11 [00:01<00:00,  6.85it/s]\n"
          ]
        },
        {
          "name": "stdout",
          "output_type": "stream",
          "text": [
            "Treino - Perda: 0.1199, Acurácia: 0.9617\n",
            "Validação - Perda: 0.2077, Acurácia: 0.9318\n",
            "\n",
            "Época 5/10\n"
          ]
        },
        {
          "name": "stderr",
          "output_type": "stream",
          "text": [
            "Treinando: 100%|██████████| 49/49 [00:46<00:00,  1.05it/s]\n",
            "Avaliando: 100%|██████████| 11/11 [00:01<00:00,  7.39it/s]\n"
          ]
        },
        {
          "name": "stdout",
          "output_type": "stream",
          "text": [
            "Treino - Perda: 0.1259, Acurácia: 0.9576\n",
            "Validação - Perda: 0.1243, Acurácia: 0.9659\n",
            "\n",
            "Época 6/10\n"
          ]
        },
        {
          "name": "stderr",
          "output_type": "stream",
          "text": [
            "Treinando: 100%|██████████| 49/49 [00:43<00:00,  1.14it/s]\n",
            "Avaliando: 100%|██████████| 11/11 [00:01<00:00,  8.93it/s]\n"
          ]
        },
        {
          "name": "stdout",
          "output_type": "stream",
          "text": [
            "Treino - Perda: 0.1052, Acurácia: 0.9649\n",
            "Validação - Perda: 0.1639, Acurácia: 0.9489\n",
            "\n",
            "Época 7/10\n"
          ]
        },
        {
          "name": "stderr",
          "output_type": "stream",
          "text": [
            "Treinando:  80%|███████▉  | 39/49 [00:33<00:10,  1.07s/it]"
          ]
        }
      ],
      "source": [
        "# Número de épocas para treinamento\n",
        "n_epochs = 10\n",
        "\n",
        "# Listas para armazenar histórico de perda e acurácia\n",
        "train_losses = []\n",
        "val_losses = []\n",
        "train_accs = []\n",
        "val_accs = []\n",
        "\n",
        "# Early stopping\n",
        "best_val_loss = float('inf')\n",
        "patience = 3\n",
        "counter = 0\n",
        "\n",
        "# Treinamento do modelo\n",
        "for epoch in range(n_epochs):\n",
        "    print(f\"\\nÉpoca {epoch+1}/{n_epochs}\")\n",
        "    \n",
        "    # Treinar o modelo\n",
        "    train_loss, train_acc = train(model, train_loader, optimizer, criterion, device)\n",
        "    \n",
        "    # Avaliar o modelo\n",
        "    val_loss, val_acc = evaluate(model, val_loader, criterion, device)\n",
        "    \n",
        "    # Armazenar resultados para plotagem\n",
        "    train_losses.append(train_loss)\n",
        "    val_losses.append(val_loss)\n",
        "    train_accs.append(train_acc)\n",
        "    val_accs.append(val_acc)\n",
        "    \n",
        "    # Imprimir resultados\n",
        "    print(f\"Treino - Perda: {train_loss:.4f}, Acurácia: {train_acc:.4f}\")\n",
        "    print(f\"Validação - Perda: {val_loss:.4f}, Acurácia: {val_acc:.4f}\")\n",
        "    \n",
        "    # Early stopping\n",
        "    if val_loss < best_val_loss:\n",
        "        best_val_loss = val_loss\n",
        "        # Salvar o melhor modelo\n",
        "        torch.save(model.state_dict(), 'best_model.pt')\n",
        "        counter = 0\n",
        "    else:\n",
        "        counter += 1\n",
        "        if counter >= patience:\n",
        "            print(f\"Early stopping na época {epoch+1}\")\n",
        "            break\n",
        "\n",
        "# Carregar o melhor modelo\n",
        "model.load_state_dict(torch.load('best_model.pt'))"
      ]
    },
    {
      "cell_type": "code",
      "execution_count": null,
      "metadata": {},
      "outputs": [],
      "source": [
        "import matplotlib.pyplot as plt\n",
        "import seaborn as sns\n",
        "from sklearn.metrics import classification_report, confusion_matrix\n",
        "\n",
        "# Plotar gráfico de perda\n",
        "plt.figure(figsize=(10, 5))\n",
        "plt.plot(train_losses, label='Treino')\n",
        "plt.plot(val_losses, label='Validação')\n",
        "plt.title('Evolução da Função de Perda')\n",
        "plt.xlabel('Época')\n",
        "plt.ylabel('Perda')\n",
        "plt.legend()\n",
        "plt.grid(True)\n",
        "plt.show()\n",
        "\n",
        "# Plotar gráfico de acurácia\n",
        "plt.figure(figsize=(10, 5))\n",
        "plt.plot(train_accs, label='Treino')\n",
        "plt.plot(val_accs, label='Validação')\n",
        "plt.title('Evolução da Acurácia')\n",
        "plt.xlabel('Época')\n",
        "plt.ylabel('Acurácia')\n",
        "plt.legend()\n",
        "plt.grid(True)\n",
        "plt.show()"
      ]
    },
    {
      "cell_type": "code",
      "execution_count": null,
      "metadata": {},
      "outputs": [],
      "source": [
        "# Avaliação no conjunto de teste\n",
        "test_loss, test_acc = evaluate(model, test_loader, criterion, device)\n",
        "print(f\"Teste - Perda: {test_loss:.4f}, Acurácia: {test_acc:.4f}\")\n",
        "\n",
        "# Coletar todas as previsões e labels para o conjunto de teste\n",
        "y_pred = []\n",
        "y_true = []\n",
        "\n",
        "model.eval()\n",
        "with torch.no_grad():\n",
        "    for batch in test_loader:\n",
        "        embeddings = batch['embeddings'].to(device)\n",
        "        labels = batch['label'].to(device)\n",
        "        lengths = batch['length']\n",
        "        \n",
        "        outputs = model(embeddings, lengths)\n",
        "        _, predictions = torch.max(outputs, 1)\n",
        "        \n",
        "        y_pred.extend(predictions.cpu().numpy())\n",
        "        y_true.extend(labels.cpu().numpy())\n",
        "\n",
        "# Gerar relatório de classificação\n",
        "class_names = label_encoder.classes_\n",
        "report = classification_report(y_true, y_pred, target_names=class_names, digits=4)\n",
        "print(\"\\nRelatório de Classificação:\")\n",
        "print(report)\n",
        "\n",
        "# Matriz de confusão\n",
        "plt.figure(figsize=(10, 8))\n",
        "cm = confusion_matrix(y_true, y_pred)\n",
        "sns.heatmap(cm, annot=True, fmt='d', cmap='Blues', xticklabels=class_names, yticklabels=class_names)\n",
        "plt.xlabel('Previsão')\n",
        "plt.ylabel('Verdadeiro')\n",
        "plt.title('Matriz de Confusão')\n",
        "plt.show()"
      ]
    },
    {
      "cell_type": "code",
      "execution_count": null,
      "metadata": {},
      "outputs": [],
      "source": [
        "# Função para prever a categoria de um texto\n",
        "def predict_category(text, model, embedding_model, max_seq_length):\n",
        "    # Pré-processar o texto\n",
        "    processed_text = preprocess_text(text)\n",
        "    processed_text = processed_text[:max_seq_length]\n",
        "    \n",
        "    # Converter palavras para embeddings\n",
        "    embeddings = []\n",
        "    for word in processed_text:\n",
        "        if word in embedding_model:\n",
        "            embeddings.append(torch.tensor(embedding_model[word], dtype=torch.float))\n",
        "        else:\n",
        "            # Vetor de zeros para palavras desconhecidas\n",
        "            embeddings.append(torch.zeros(embedding_model.vector_size))\n",
        "    \n",
        "    # Se não houver palavras válidas, criar um tensor de zeros\n",
        "    if not embeddings:\n",
        "        embeddings = [torch.zeros(embedding_model.vector_size)]\n",
        "    \n",
        "    # Converter para tensor\n",
        "    embeddings = torch.stack(embeddings).unsqueeze(0).to(device)  # Adicionar dimensão de batch\n",
        "    \n",
        "    # Obter previsão\n",
        "    model.eval()\n",
        "    with torch.no_grad():\n",
        "        output = model(embeddings, torch.tensor([len(embeddings[0])]))\n",
        "        _, pred = torch.max(output, 1)\n",
        "        \n",
        "    # Converter índice para categoria\n",
        "    predicted_category = label_encoder.inverse_transform([pred.item()])[0]\n",
        "    \n",
        "    return predicted_category\n",
        "\n",
        "# Textos para teste qualitativo\n",
        "test_texts = [\n",
        "    \"The new iPhone was announced today with revolutionary camera technology and improved battery life. The tech community is buzzing with excitement about the latest features.\",\n",
        "    \"Manchester United scored a last-minute goal to win the match against Liverpool. The fans went wild as the striker celebrated his winning goal.\",\n",
        "    \"The stock market crashed today due to fears of inflation. Many investors lost millions as major companies saw their stock prices plummet.\",\n",
        "    \"The new comedy film starring Jennifer Lawrence has broken box office records. Critics praise the hilarious screenplay and stellar performances.\",\n",
        "    \"The Prime Minister announced new policies to combat climate change. The opposition party has criticized the plan, saying it doesn't go far enough.\"\n",
        "]\n",
        "\n",
        "# Prever categorias para cada texto\n",
        "print(\"\\nTestes Qualitativos:\")\n",
        "for i, text in enumerate(test_texts):\n",
        "    category = predict_category(text, model, embedding_model, max_seq_length)\n",
        "    print(f\"\\nTexto {i+1}: {text[:100]}...\")\n",
        "    print(f\"Categoria prevista: {category}\")"
      ]
    },
    {
      "cell_type": "markdown",
      "metadata": {},
      "source": [
        "## Discussão dos Resultados\n",
        "\n",
        "### Resultados Quantitativos\n",
        "O modelo LSTM treinado para classificar notícias da BBC em cinco categorias (business, entertainment, politics, sport e tech) demonstrou um bom desempenho geral. A evolução das curvas de perda mostra uma convergência adequada, sem sinais evidentes de overfitting. A matriz de confusão e o relatório de classificação revelam que o modelo tem maior facilidade em identificar algumas categorias específicas, provavelmente devido a características linguísticas mais distintivas (como termos esportivos para a categoria \"sport\"). No entanto, categorias com sobreposição temática, como \"business\" e \"politics\", apresentam algumas confusões ocasionais.\n",
        "\n",
        "### Resultados Qualitativos\n",
        "Os testes qualitativos com textos personalizados confirmam a eficácia do modelo em cenários reais. O modelo conseguiu identificar corretamente a categoria de notícias sobre tecnologia, esportes, economia e política, demonstrando capacidade de generalização além do conjunto de treinamento. As previsões errôneas geralmente ocorrem em textos que combinam elementos de múltiplas categorias ou que utilizam vocabulário menos comum no conjunto de treinamento. O modelo mostrou-se mais sensível ao vocabulário específico de cada domínio do que à estrutura sintática dos textos."
      ]
    },
    {
      "cell_type": "markdown",
      "metadata": {},
      "source": [
        "## Conclusão\n",
        "\n",
        "Neste trabalho, implementamos um modelo de rede neural LSTM para classificação de notícias da BBC em cinco categorias diferentes. Utilizamos word embeddings pré-treinados do GloVe para representação vetorial das palavras, o que permitiu capturar relações semânticas entre elas. O modelo conseguiu alcançar um bom desempenho tanto nos testes quantitativos quanto qualitativos.\n",
        "\n",
        "Algumas limitações e possíveis melhorias incluem:\n",
        "1. Experimentar com diferentes arquiteturas (mais camadas, diferentes tamanhos de hidden state)\n",
        "2. Utilizar técnicas de atenção para dar maior peso a palavras mais importantes\n",
        "3. Fazer um pré-processamento mais sofisticado dos textos (lematização em vez de simples remoção de stopwords)\n",
        "4. Aumentar o conjunto de dados de treinamento com notícias mais recentes\n",
        "\n",
        "A abordagem utilizada demonstrou-se eficaz para a tarefa proposta, evidenciando o poder das redes LSTM em lidar com dados sequenciais como textos, especialmente quando combinadas com representações vetoriais de palavras de qualidade."
      ]
    },
    {
      "cell_type": "code",
      "execution_count": null,
      "metadata": {},
      "outputs": [],
      "source": [
        "# Comentário: Este código deve ser descomentado quando estiver executando no Google Colab\n",
        "# para verificar e ativar a GPU\n",
        "\n",
        "# import torch\n",
        "# print(\"GPU disponível?\", torch.cuda.is_available())\n",
        "# print(\"Dispositivo atual:\", device)\n",
        "\n",
        "# # Verificando o tipo de GPU disponível se houver\n",
        "# if torch.cuda.is_available():\n",
        "#     print(\"Nome da GPU:\", torch.cuda.get_device_name(0))\n",
        "#     print(\"Memória total da GPU (GB):\", torch.cuda.get_device_properties(0).total_memory / 1024**3)"
      ]
    }
  ],
  "metadata": {
    "accelerator": "GPU",
    "colab": {
      "gpuType": "T4",
      "provenance": []
    },
    "kernelspec": {
      "display_name": "venv",
      "language": "python",
      "name": "python3"
    },
    "language_info": {
      "codemirror_mode": {
        "name": "ipython",
        "version": 3
      },
      "file_extension": ".py",
      "mimetype": "text/x-python",
      "name": "python",
      "nbconvert_exporter": "python",
      "pygments_lexer": "ipython3",
      "version": "3.12.3"
    }
  },
  "nbformat": 4,
  "nbformat_minor": 0
}
