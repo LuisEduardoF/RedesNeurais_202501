{
 "cells": [
  {
   "cell_type": "markdown",
   "id": "0a622311",
   "metadata": {},
   "source": [
    "\n",
    "# Trabalho 1: Diferenciação Automática com Grafos Computacionais\n",
    "\n",
    "## Informações Gerais\n",
    "\n",
    "- Data de Entrega: 29/06/2025\n",
    "- Pontuação: 10 pontos (+4 pontos extras)\n",
    "- O trabalho deve ser feito individualmente.\n",
    "- A entrega do trabalho deve ser realizada via sistema testr.\n",
    "\n"
   ]
  },
  {
   "cell_type": "markdown",
   "id": "81844651",
   "metadata": {},
   "source": [
    "## Especificação\n",
    "\n",
    "⚠️ *Esta explicação assume que você leu e entendeu os slides sobre grafos computacionais.*\n",
    "\n",
    "O trabalho consiste em implementar um sistema de diferenciação automática usando grafos computacionais e utilizar este sistema para resolver um conjunto de problemas.\n",
    "\n",
    "Para isto, devem ser definidos um tipo Tensor para representar dados (similares aos arrays do numpy) e operações (e.g., soma, subtração, etc.) que geram tensores como saída. \n",
    "\n",
    "Sempre que uma operação é realizada, é armazenado no tensor de saída referências para os seus pais, isto é, os valores usados como entrada para a operação. \n"
   ]
  },
  {
   "cell_type": "markdown",
   "id": "faacc1a1",
   "metadata": {},
   "source": [
    "### Imports"
   ]
  },
  {
   "cell_type": "code",
   "execution_count": 151,
   "id": "19261d1f",
   "metadata": {},
   "outputs": [],
   "source": [
    "from typing import Optional, Union, Any\n",
    "from collections.abc import Iterable\n",
    "from abc import ABC, abstractmethod\n",
    "import numbers\n",
    "\n",
    "import numpy as np                          \n",
    "import matplotlib.pyplot as plt                                                     \n",
    "import seaborn as sns\n",
    "\n",
    "sns.set_style('whitegrid')"
   ]
  },
  {
   "cell_type": "markdown",
   "id": "f284f531",
   "metadata": {},
   "source": [
    "### Classe NameManager"
   ]
  },
  {
   "cell_type": "markdown",
   "id": "8fd00b34",
   "metadata": {},
   "source": [
    "A classe NameManager provê uma forma conveniente de dar nomes intuitivos para tensores que resultam de operações. A idéia é tornar mais fácil para o usuário das demais classes qual operação gerou qual tensor. Ela provê os seguintes métodos públicos: \n",
    "\n",
    "- reset(): reinicia o sistema de gestão de nomes.\n",
    "- new(<basename>: str): retorna um nome único a partir do nome de base passado como argumento. \n",
    "  \n",
    "Como indicado no exemplo abaixo da classe, a idéia geral é que uma sequência de operações é feita, os nomes dos tensores sejam os nomes das operações seguidos de um número. Se forem feitas 3 operações de soma e uma de multiplicação, seus tensores de saída terão os nomes \"add:0\", \"add:1\", \"add:2\" e \"prod:0\"."
   ]
  },
  {
   "cell_type": "code",
   "execution_count": 152,
   "id": "162272a0",
   "metadata": {
    "tags": [
     "name_manager"
    ]
   },
   "outputs": [
    {
     "name": "stdout",
     "output_type": "stream",
     "text": [
      "add:0\n",
      "in:0\n",
      "add:1\n",
      "add:2\n",
      "in:1\n",
      "prod:0\n"
     ]
    }
   ],
   "source": [
    "\n",
    "class NameManager:                                                                                                                  \n",
    "    _counts = {}\n",
    "\n",
    "    @staticmethod\n",
    "    def reset():    \n",
    "        NameManager._counts = {}\n",
    "\n",
    "    @staticmethod\n",
    "    def _count(name):\n",
    "        if name not in NameManager._counts:\n",
    "            NameManager._counts[name] = 0\n",
    "        count = NameManager._counts[name]\n",
    "        return count\n",
    "\n",
    "    @staticmethod\n",
    "    def _inc_count(name):\n",
    "        assert name in NameManager._counts, f'Name {name} is not registered.'\n",
    "        NameManager._counts[name] += 1\n",
    "\n",
    "    @staticmethod\n",
    "    def new(name: str):\n",
    "        count = NameManager._count(name)\n",
    "        tensor_name = f\"{name}:{count}\"\n",
    "        NameManager._inc_count(name)\n",
    "        return tensor_name\n",
    "\n",
    "# exemplo de uso\n",
    "print(NameManager.new('add'))\n",
    "print(NameManager.new('in'))\n",
    "print(NameManager.new('add'))\n",
    "print(NameManager.new('add'))\n",
    "print(NameManager.new('in'))\n",
    "print(NameManager.new('prod'))\n",
    "\n",
    "NameManager.reset()"
   ]
  },
  {
   "cell_type": "markdown",
   "id": "e69485a9",
   "metadata": {},
   "source": [
    "### Classe Tensor\n",
    "\n",
    "Deve ser criada uma classe `Tensor` representando um array multidimensional."
   ]
  },
  {
   "cell_type": "code",
   "execution_count": 153,
   "id": "448496d7",
   "metadata": {
    "tags": [
     "tensor"
    ]
   },
   "outputs": [],
   "source": [
    "\n",
    "class Tensor:\n",
    "    \"\"\"Classe representando um array multidimensional.\n",
    "\n",
    "    Atributos:\n",
    "\n",
    "    - _arr  (privado): dados internos do tensor como\n",
    "        um array do numpy com 2 dimensões (ver Regras)\n",
    "\n",
    "    - _parents (privado): lista de tensores que foram\n",
    "        usados como argumento para a operação que gerou o\n",
    "        tensor. Será vazia se o tensor foi inicializado com\n",
    "        valores diretamente. Por exemplo, se o tensor foi\n",
    "        resultado da operação a + b entre os tensores a e b,\n",
    "        _parents = [a, b].\n",
    "\n",
    "    - requires_grad (público): indica se devem ser\n",
    "        calculados gradientes para o tensor ou não.\n",
    "\n",
    "    - grad (público): Tensor representando o gradiente.\n",
    "\n",
    "    \"\"\"\n",
    "\n",
    "    def __init__(self,\n",
    "                 # Dados do tensor. Além dos tipos listados,\n",
    "                 # arr também pode ser do tipo Tensor.\n",
    "                 arr: Union[np.ndarray, list, numbers.Number, Any],\n",
    "                 # Entradas da operacao que gerou o tensor.\n",
    "                 # Deve ser uma lista de itens do tipo Tensor.\n",
    "                 parents: list[Any] = [],\n",
    "                 # se o tensor requer o calculo de gradientes ou nao\n",
    "                 requires_grad: bool = True,\n",
    "                 # nome do tensor\n",
    "                 name: str = '',\n",
    "                 # referência para um objeto do tipo Operation (ou\n",
    "                 # subclasse) indicando qual operação gerou este\n",
    "                 # tensor. Este objeto também possui um método\n",
    "                 # para calcular a derivada da operação.\n",
    "                 operation=None):\n",
    "        \"\"\"Construtor\n",
    "\n",
    "        O construtor deve permitir a criacao de tensores das seguintes formas:\n",
    "\n",
    "            # a partir de escalares\n",
    "            x = Tensor(3)\n",
    "\n",
    "            # a partir de listas\n",
    "            x = Tensor([1,2,3])\n",
    "\n",
    "            # a partir de arrays\n",
    "            x = Tensor(np.array([1,2,3]))\n",
    "\n",
    "            # a partir de outros tensores (construtor de copia)\n",
    "            x = Tensor(Tensor(np.array([1,2,3])))\n",
    "\n",
    "        Para isto, as seguintes regras devem ser obedecidas:\n",
    "\n",
    "        - Se o argumento arr não for um array do numpy,\n",
    "            ele deve ser convertido em um. Defina o dtype do\n",
    "            array como float de forma a permitir que NÃO seja\n",
    "            necessário passar constantes float como Tensor(3.0),\n",
    "            mas possamos criar um tensor apenas com Tensor(3).\n",
    "\n",
    "        - O atributo _arr deve ser uma matriz, isto é,\n",
    "            ter 2 dimensões (ver Regras).\n",
    "\n",
    "        - Se o argumento arr for um Tensor, ele deve ser\n",
    "            copiado (cuidado com cópias por referência).\n",
    "\n",
    "        - Se arr for um array do numpy com 1 dimensão,\n",
    "            ele deve ser convertido em uma matriz coluna.\n",
    "\n",
    "        - Se arr for um array do numpy com dimensão maior\n",
    "            que 2, deve ser lançada uma exceção.\n",
    "\n",
    "        - Tensores que não foram produzidos como resultado\n",
    "            de uma operação não têm pais nem operação.\n",
    "            Os nomes destes tensores devem seguir o formato in:3.\n",
    "        \"\"\"\n",
    "\n",
    "        \n",
    "        self._arr = self.__set_arr(arr)\n",
    "        assert len(self._arr.shape) <= 2, f\"[SizeError] Dimensão deve ser < 2, dimensão do array é {len(self._arr.shape)}\"\n",
    "        \n",
    "        if isinstance(arr, Tensor):\n",
    "            self._copy_from_tensor(arr, requires_grad)\n",
    "        else:\n",
    "            self._arr = self.__set_arr(arr)\n",
    "            assert len(self._arr.shape) <= 2, f\"[SizeError] Dimensão deve ser < 2, dimensão do array é {len(self._arr.shape)}\"\n",
    "            self._parents = parents\n",
    "            self.requires_grad = requires_grad\n",
    "            self.operation = operation\n",
    "            \n",
    "            if len(self._parents) == 0 and self.operation is None:\n",
    "                self._name = NameManager.new('in')\n",
    "            else:\n",
    "                self._name = name\n",
    "            \n",
    "            self.grad = self.zero_grad() if requires_grad else None\n",
    "            \n",
    "    def _copy_from_tensor(self, tensor, requires_grad=None):\n",
    "        self._arr = self.__set_arr(tensor.numpy().copy())\n",
    "        self._name = tensor._name\n",
    "        self._parents = tensor._parents.copy() if tensor._parents else []\n",
    "        \n",
    "        # Allow overriding requires_grad during copy\n",
    "        if requires_grad is None:\n",
    "            requires_grad = tensor.requires_grad\n",
    "        \n",
    "        self.requires_grad = requires_grad\n",
    "        self.grad = self.zero_grad() if requires_grad else None\n",
    "        self.operation = tensor.operation\n",
    "    \n",
    "    def __set_arr(self, arr):\n",
    "        self._types = {int: lambda arr: np.array([[arr]], dtype=float),\n",
    "                       float: lambda arr: np.array([[arr]], dtype=float),\n",
    "                       np.float64: lambda arr: np.array([[arr]], dtype=float),\n",
    "                       np.float32: lambda arr: np.array([[arr]], dtype=float),\n",
    "                       np.int64: lambda arr: np.array([[arr]], dtype=float),\n",
    "                       np.int32: lambda arr: np.array([[arr]], dtype=float),\n",
    "                       list: lambda arr: np.c_[np.array(arr, dtype=float)],\n",
    "                       np.ndarray: lambda arr:np.c_[arr.astype(float)], \n",
    "                       Tensor: lambda arr: self.__set_arr(arr.numpy().copy())}\n",
    "        \n",
    "        arr_type = type(arr)\n",
    "        assert arr_type in self._types, f\"[TypeError] Tipo de proibido de array, precisa ser int(), list(), np.ndarray(), Tensor(), o array é {arr_type}.\"\n",
    "        \n",
    "        return self._types[arr_type](arr)\n",
    "        \n",
    "    def zero_grad(self):\n",
    "        \"\"\"Reinicia o gradiente com zero\"\"\"\n",
    "        self.grad = Tensor(np.zeros(self._arr.shape, dtype=float), requires_grad=False, name=f\"{self._name}_grad\", operation=None)\n",
    "        return self.grad\n",
    "    \n",
    "    def numpy(self):\n",
    "        \"\"\"Retorna o array interno\"\"\"\n",
    "        return self._arr\n",
    "\n",
    "    def __repr__(self):\n",
    "        \"\"\"Permite visualizar os dados do tensor como string\"\"\"\n",
    "        return f\"Tensor({self._arr}, name={self._name}, shape={self._arr.shape})\"\n",
    "\n",
    "    def backward(self, my_grad=None):\n",
    "        \"\"\"Método usado tanto iniciar o processo de\n",
    "        diferenciação automática, quanto por um filho\n",
    "        para enviar o gradiente do pai. No primeiro\n",
    "        caso, o argumento my_grad não será passado.\n",
    "        \"\"\"\n",
    "        if my_grad is None:\n",
    "            self.grad = Tensor([1]*len(self._arr), requires_grad=False, name=f\"{self._name}_out\", operation=None)\n",
    "        # print(\"Doing Backward for\", self._name, self._arr)\n",
    "        # print(\"Grad:\", self.grad)\n",
    "        if not self.requires_grad:\n",
    "            return\n",
    "        \n",
    "        if self.operation is not None:\n",
    "            parent_grads = self.operation.grad(self.grad, self._parents, )\n",
    "            # print(parent_grads)\n",
    "            # print()\n",
    "            for i in range(len(self._parents)):\n",
    "                # print(parent_grads[i].numpy(), self._parents[i].grad.numpy())\n",
    "                self._parents[i].grad = Tensor(self._parents[i].grad.numpy() + parent_grads[i].numpy())\n",
    "                # print(\"Resulting Gradient:\", self._parents[i]._name, self._parents[i].grad)\n",
    "                self._parents[i].backward(my_grad=True)\n",
    "            \n",
    "            \n"
   ]
  },
  {
   "cell_type": "code",
   "execution_count": 154,
   "id": "92898716",
   "metadata": {},
   "outputs": [
    {
     "name": "stdout",
     "output_type": "stream",
     "text": [
      "Tensor([[1.]], name=in:2, shape=(1, 1))\n",
      "\n",
      "Tensor([[1.]\n",
      " [2.]\n",
      " [3.]\n",
      " [4.]], name=in:4, shape=(4, 1))\n",
      "\n",
      "Tensor([[1. 2. 3. 4.]\n",
      " [5. 6. 7. 8.]], name=in:6, shape=(2, 4))\n",
      "\n",
      "Tensor([[1. 2. 3. 4.]\n",
      " [5. 6. 7. 8.]], name=in:0, shape=(2, 4))\n",
      "\n"
     ]
    }
   ],
   "source": [
    "entries = {\"int\":1, \"list\":[1,2,3,4], \"np.darray\": np.array([[1,2,3,4],[5,6,7,8]]), \"Tensor\":Tensor(arr=[[1,2,3,4],[5,6,7,8]], name='Tensor')}\n",
    "\n",
    "for entry in entries:\n",
    "    print(Tensor(arr=entries[entry], name=entry), end='\\n\\n')"
   ]
  },
  {
   "cell_type": "code",
   "execution_count": 155,
   "id": "08c128f9",
   "metadata": {},
   "outputs": [
    {
     "name": "stdout",
     "output_type": "stream",
     "text": [
      "Tensor([[1.]\n",
      " [2.]\n",
      " [3.]], name=in:9, shape=(3, 1))\n",
      "Tensor([[0.]\n",
      " [0.]\n",
      " [0.]], name=in:10, shape=(3, 1))\n"
     ]
    }
   ],
   "source": [
    "t = Tensor([1,2,3], name='grad')\n",
    "print(t)\n",
    "print(t.grad)"
   ]
  },
  {
   "cell_type": "markdown",
   "id": "d2c612fc",
   "metadata": {},
   "source": [
    "### Interface de  Operações"
   ]
  },
  {
   "cell_type": "markdown",
   "id": "7db44044",
   "metadata": {},
   "source": [
    "A classe abaixo define a interface que as operações devem implementar. Ela não precisa ser modificada, mas pode, caso queira."
   ]
  },
  {
   "cell_type": "code",
   "execution_count": 156,
   "id": "28a19b73",
   "metadata": {
    "tags": [
     "op"
    ]
   },
   "outputs": [],
   "source": [
    "\n",
    "class Op(ABC):\n",
    "    @abstractmethod\n",
    "    def __call__(self, *args, **kwargs) -> Tensor:\n",
    "        \"\"\"Realiza a operação usando as entradas e\n",
    "            retorna o tensor resultado. O método deve\n",
    "            garantir que o atributo parents do tensor\n",
    "            de saída seja uma lista de tensores.\"\"\"\n",
    "\n",
    "    @abstractmethod\n",
    "    \n",
    "    def grad(self, back_grad: Tensor, *args, **kwargs) -> list[Tensor]:\n",
    "        \"\"\"Retorna os gradientes dos pais em como tensores.\n",
    "\n",
    "        Arguments:\n",
    "\n",
    "        - back_grad: Derivada parcial em relação à saída\n",
    "            da operação backpropagada pelo filho.\n",
    "\n",
    "        - args: variaveis de entrada da operacao (pais)\n",
    "            como tensores.\n",
    "\n",
    "        - O nome dos tensores de gradiente devem ter o\n",
    "            nome da operacao seguido de '_grad'.\n",
    "        \"\"\"\n",
    "    \n",
    "    def _tensor(self, args):\n",
    "        tensors = []\n",
    "        for i in range(len(args)):\n",
    "            tensors.append(args[i] if isinstance(args[i], Tensor) else Tensor(args[i], name=NameManager.new('in')))\n",
    "        \n",
    "        return tensors\n"
   ]
  },
  {
   "cell_type": "markdown",
   "id": "9b89e386",
   "metadata": {},
   "source": [
    "### Implementação das Operações\n",
    "\n",
    "Operações devem herdar de `Op` e implementar os métodos `__call__` e `grad`.\n",
    "\n",
    "Pelo menos as seguintes operações devem ser implementadas:\n",
    "\n"
   ]
  },
  {
   "cell_type": "code",
   "execution_count": 157,
   "id": "aa4f7719",
   "metadata": {
    "tags": [
     "add"
    ]
   },
   "outputs": [],
   "source": [
    "\n",
    "class Add(Op):\n",
    "    \"\"\"Add(a, b): a + b\"\"\"\n",
    "    def __call__(self, *args, **kwargs) -> Tensor:\n",
    "        \"\"\"Realiza a operação usando os argumentos dados em args\"\"\"\n",
    "        \n",
    "        def _Add(a, b):\n",
    "            return a + b\n",
    "        \n",
    "        args = self._tensor(args)\n",
    "        \n",
    "        results = _Add(args[0].numpy(), args[1].numpy())\n",
    "        \n",
    "        return Tensor(results, parents=args, name=NameManager.new('add'), operation=self)\n",
    "    \n",
    "    def grad(self, back_grad: Tensor, *args, **kwargs) -> list[Tensor]:\n",
    "        \"\"\"Retorna a lista de derivadas parciais em relação aos pais (passados em args)\"\"\"\n",
    "        \n",
    "        derivative = 1\n",
    "        \n",
    "        return [Tensor(derivative*back_grad.numpy(), name=NameManager.new(f'{args[0][i]._name}_grad')) for i in range(len(args[0]))]\n",
    "        \n",
    "# Instancia a classe. O objeto passa a poder ser usado como uma funcao\n",
    "add = Add()"
   ]
  },
  {
   "cell_type": "code",
   "execution_count": 158,
   "id": "05cb44e6",
   "metadata": {
    "tags": [
     "sub"
    ]
   },
   "outputs": [],
   "source": [
    "\n",
    "class Sub(Op):\n",
    "    \"\"\"Sub(a, b): a - b\"\"\"\n",
    "    def __call__(self, *args, **kwargs) -> Tensor:\n",
    "        \"\"\"Realiza a operação usando os argumentos dados em args\"\"\"\n",
    "        \n",
    "        def _Sub(a, b):\n",
    "            return a - b\n",
    "        \n",
    "        args = self._tensor(args)\n",
    "        \n",
    "        results = _Sub(args[0].numpy(), args[1].numpy())\n",
    "        \n",
    "        return Tensor(results, parents=args, name=NameManager.new('sub'), operation=self)\n",
    "    def grad(self, back_grad: Tensor, *args, **kwargs) -> list[Tensor]:\n",
    "        \"\"\"Retorna a lista de derivadas parciais em relação aos pais (passados em args)\"\"\"\n",
    "        \n",
    "        derivative = lambda i: (1 if i%2 == 0 else -1)\n",
    "        \n",
    "        return [Tensor(derivative(i)*back_grad.numpy(), name=NameManager.new(f'{args[0][i]._name}_grad')) for i in range(len(args[0]))]\n",
    "\n",
    "# Instancia a classe. O objeto passa a poder ser usado como uma funcao\n",
    "sub = Sub()"
   ]
  },
  {
   "cell_type": "code",
   "execution_count": 159,
   "id": "6f53df08",
   "metadata": {
    "tags": [
     "prod"
    ]
   },
   "outputs": [],
   "source": [
    "\n",
    "class Prod(Op):\n",
    "    \"\"\"Prod(a, b): produto ponto a ponto de a e b ou produto escalar-tensor\"\"\"\n",
    "    def __call__(self, *args, **kwargs) -> Tensor:\n",
    "        \"\"\"Realiza a operação usando os argumentos dados em args\"\"\"\n",
    "        \n",
    "        def _Prod(a, b):\n",
    "            return a * b\n",
    "        \n",
    "        args = self._tensor(args)\n",
    "        \n",
    "        results = _Prod(args[0].numpy(), args[1].numpy())\n",
    "        \n",
    "        return Tensor(results, parents=args, name=NameManager.new('prod'), operation=self)\n",
    "    def grad(self, back_grad: Tensor, *args, **kwargs) -> list[Tensor]:\n",
    "        \"\"\"Retorna a lista de derivadas parciais em relação aos pais (passados em args)\"\"\"\n",
    "        \n",
    "        parents = args[0]\n",
    "        derivative = lambda i: parents[i + (1 if i%2 == 0 else -1)].numpy()\n",
    "        \n",
    "        return [Tensor(derivative(i)*back_grad.numpy(), name=NameManager.new(f'{parents[0]._name}_grad')) for i in range(len(parents))]\n",
    "# Instancia a classe. O objeto passa a poder ser usado como uma funcao\n",
    "prod = Prod()"
   ]
  },
  {
   "cell_type": "code",
   "execution_count": 160,
   "id": "8f3838a7",
   "metadata": {
    "tags": [
     "sin"
    ]
   },
   "outputs": [],
   "source": [
    "\n",
    "class Sin(Op):\n",
    "    \"\"\"seno element-wise\"\"\"\n",
    "    def __call__(self, *args, **kwargs) -> Tensor:\n",
    "        \"\"\"Realiza a operação usando os argumentos dados em args\"\"\"\n",
    "       \n",
    "        def _Sin(a):\n",
    "            return np.sin(a)\n",
    "        \n",
    "        args = self._tensor(args)\n",
    "        \n",
    "        results = _Sin(args[0].numpy())\n",
    "        \n",
    "        return Tensor(results, parents=args, name=NameManager.new('sin'), operation=self)\n",
    "    def grad(self, back_grad: Tensor, *args, **kwargs) -> list[Tensor]:\n",
    "        \"\"\"Retorna a lista de derivadas parciais em relação aos pais (passados em args)\"\"\"\n",
    "        parents = args[0]\n",
    "        derivative = np.cos(parents[0].numpy())\n",
    "        \n",
    "        return [Tensor(derivative*back_grad.numpy(), name=NameManager.new(f'{parents[0]._name}_grad')) for i in range(len(parents))]\n",
    "# Instancia a classe. O objeto passa a poder ser usado como uma funcao\n",
    "sin = Sin()"
   ]
  },
  {
   "cell_type": "code",
   "execution_count": 161,
   "id": "138cb8ef",
   "metadata": {
    "tags": [
     "cos"
    ]
   },
   "outputs": [],
   "source": [
    "\n",
    "class Cos(Op):\n",
    "    \"\"\"cosseno element-wise\"\"\"\n",
    "    def __call__(self, *args, **kwargs) -> Tensor:\n",
    "        \"\"\"Realiza a operação usando os argumentos dados em args\"\"\"\n",
    "        \n",
    "        def _Cos(a):\n",
    "            return np.cos(a)\n",
    "        \n",
    "        args = self._tensor(args)\n",
    "        \n",
    "        results = _Cos(args[0].numpy())\n",
    "        \n",
    "        return Tensor(results, parents=args, name=NameManager.new('cos'), operation=self)\n",
    "    def grad(self, back_grad: Tensor, *args, **kwargs) -> list[Tensor]:\n",
    "        \"\"\"Retorna a lista de derivadas parciais em relação aos pais (passados em args)\"\"\"\n",
    "        parents = args[0]\n",
    "        derivative = -np.sin(parents[0].numpy())\n",
    "        return [Tensor(derivative*back_grad.numpy(), name=NameManager.new(f'{parents[0]._name}_grad')) for i in range(len(parents))]\n",
    "\n",
    "# Instancia a classe. O objeto passa a poder ser usado como uma funcao\n",
    "cos = Cos()"
   ]
  },
  {
   "cell_type": "code",
   "execution_count": 162,
   "id": "46eac52c",
   "metadata": {
    "tags": [
     "sum"
    ]
   },
   "outputs": [],
   "source": [
    "\n",
    "class Sum(Op):\n",
    "    \"\"\"Retorna a soma dos elementos do tensor\"\"\"\n",
    "    def __call__(self, *args, **kwargs) -> Tensor:\n",
    "        \"\"\"Realiza a operação usando os argumentos dados em args\"\"\"\n",
    "        \n",
    "        def _Sum(a):\n",
    "            return np.sum(a)\n",
    "        \n",
    "        args = self._tensor(args)\n",
    "        \n",
    "        results = _Sum(args[0].numpy())\n",
    "        \n",
    "        return Tensor(results, parents=args, name=NameManager.new('my_sum'), operation=self)\n",
    "    def grad(self, back_grad: Tensor, *args, **kwargs) -> list[Tensor]:\n",
    "        \"\"\"Retorna a lista de derivadas parciais em relação aos pais (passados em args)\"\"\"\n",
    "        derivative = 1\n",
    "        return [Tensor(derivative*back_grad.numpy(), name=NameManager.new(f'{args[0][i]._name}_grad')) for i in range(len(args[0]))]\n",
    "\n",
    "# Instancia a classe. O objeto passa a poder ser usado como uma funcao\n",
    "# ⚠️ vamos chamar de my_sum porque python ja possui uma funcao sum\n",
    "my_sum = Sum()"
   ]
  },
  {
   "cell_type": "code",
   "execution_count": 163,
   "id": "e098a39c",
   "metadata": {
    "tags": [
     "mean"
    ]
   },
   "outputs": [],
   "source": [
    "\n",
    "class Mean(Op):\n",
    "    \"\"\"Retorna a média dos elementos do tensor\"\"\"\n",
    "    def __call__(self, *args, **kwargs) -> Tensor:\n",
    "        \"\"\"Realiza a operação usando os argumentos dados em args\"\"\"\n",
    "        \n",
    "        def _Mean(a):\n",
    "            return np.mean(a)\n",
    "        \n",
    "        args = self._tensor(args)\n",
    "        \n",
    "        results = _Mean(args[0].numpy())\n",
    "        \n",
    "        return Tensor(results, parents=args, name=NameManager.new('mean'), operation=self)\n",
    "    def grad(self, back_grad: Tensor, *args, **kwargs) -> list[Tensor]:\n",
    "        \"\"\"Retorna a lista de derivadas parciais em relação aos pais (passados em args)\"\"\"\n",
    "        parents = args[0]\n",
    "        derivative = 1/len(parents[0].numpy())\n",
    "        return [Tensor(derivative*back_grad.numpy(), name=NameManager.new(f'{args[0][i]._name}_grad')) for i in range(len(args[0]))]\n",
    "# Instancia a classe. O objeto passa a poder ser usado como uma funcao\n",
    "mean = Mean()"
   ]
  },
  {
   "cell_type": "code",
   "execution_count": 164,
   "id": "37692879",
   "metadata": {
    "tags": [
     "square"
    ]
   },
   "outputs": [],
   "source": [
    "\n",
    "class Square(Op):\n",
    "    \"\"\"Eleva cada elemento ao quadrado\"\"\"\n",
    "    def __call__(self, *args, **kwargs) -> Tensor:\n",
    "        \"\"\"Realiza a operação usando os argumentos dados em args\"\"\"\n",
    "        \n",
    "        def _Square(a):\n",
    "            return np.square(a)\n",
    "        \n",
    "        args = self._tensor(args)\n",
    "        \n",
    "        results = _Square(args[0].numpy())\n",
    "        \n",
    "        return Tensor(results, parents=args, name=NameManager.new('square'), operation=self)\n",
    "    def grad(self, back_grad: Tensor, *args, **kwargs) -> list[Tensor]:\n",
    "        \"\"\"Retorna a lista de derivadas parciais em relação aos pais (passados em args)\"\"\"\n",
    "        parents = args[0]\n",
    "        derivative = 2 * parents[0].numpy()\n",
    "        return [Tensor(derivative*back_grad.numpy(), name=NameManager.new(f'{args[0][i]._name}_grad')) for i in range(len(args[0]))]\n",
    "\n",
    "# Instancia a classe. O objeto passa a poder ser usado como uma funcao\n",
    "square = Square()"
   ]
  },
  {
   "cell_type": "code",
   "execution_count": 165,
   "id": "6542807d",
   "metadata": {
    "tags": [
     "matmul"
    ]
   },
   "outputs": [],
   "source": [
    "\n",
    "class MatMul(Op):\n",
    "    \"\"\"MatMul(A, B): multiplicação de matrizes\n",
    "\n",
    "    C = A @ B\n",
    "    de/dA = de/dc @ B^T\n",
    "    de/dB = A^T @ de/dc\n",
    "\n",
    "    \"\"\"\n",
    "    \n",
    "    def __call__(self, *args, **kwargs) -> Tensor:\n",
    "        \"\"\"Realiza a operação usando os argumentos dados em args\"\"\"\n",
    "        \n",
    "        def _MatMul(a, b):\n",
    "            return a @ b\n",
    "        \n",
    "        args = self._tensor(args)\n",
    "        \n",
    "        results = _MatMul(args[0].numpy(), args[1].numpy())\n",
    "    \n",
    "        return Tensor(results, parents=args, name=NameManager.new('matmul'), operation=self)\n",
    "    \n",
    "    def grad(self, back_grad: Tensor, *args, **kwargs) -> list[Tensor]:\n",
    "        \"\"\"Retorna a lista de derivadas parciais em relação aos pais (passados em args)\"\"\"\n",
    "        parents = args[0]\n",
    "        derivative = lambda i, back_grad: back_grad.numpy() @ parents[1].numpy().T if i == 0 else parents[0].numpy().T @ back_grad.numpy()\n",
    "        return [Tensor(derivative(i, back_grad), name=NameManager.new(f'{args[0][i]._name}_grad')) for i in range(len(args[0]))]\n",
    "    \n",
    "# Instancia a classe. O objeto passa a poder ser usado como uma funcao\n",
    "matmul = MatMul()"
   ]
  },
  {
   "cell_type": "code",
   "execution_count": 166,
   "id": "c08a38e3",
   "metadata": {
    "tags": [
     "exp"
    ]
   },
   "outputs": [],
   "source": [
    "\n",
    "class Exp(Op):\n",
    "    \"\"\"Exponenciação element-wise\"\"\"\n",
    "    def __call__(self, *args, **kwargs) -> Tensor:\n",
    "        \"\"\"Realiza a operação usando os argumentos dados em args\"\"\"\n",
    "        \n",
    "        def _Exp(a):\n",
    "            return np.exp(a)\n",
    "        \n",
    "        args = self._tensor(args)\n",
    "        \n",
    "        results = _Exp(args[0].numpy())\n",
    "    \n",
    "        return Tensor(results, parents=args, name=NameManager.new('exp'), operation=self)\n",
    "    def grad(self, back_grad: Tensor, *args, **kwargs) -> list[Tensor]:\n",
    "        \"\"\"Retorna a lista de derivadas parciais em relação aos pais (passados em args)\"\"\"\n",
    "        parents = args[0]\n",
    "        derivative = np.exp(parents[0].numpy())\n",
    "        return [Tensor(derivative*back_grad.numpy(), name=NameManager.new(f'{args[0][i]._name}_grad')) for i in range(len(args[0]))]\n",
    "# Instancia a classe. O objeto passa a poder ser usado como uma funcao\n",
    "exp = Exp()"
   ]
  },
  {
   "cell_type": "code",
   "execution_count": 167,
   "id": "1acc813e",
   "metadata": {
    "tags": [
     "relu"
    ]
   },
   "outputs": [],
   "source": [
    "\n",
    "class ReLU(Op):\n",
    "    \"\"\"ReLU element-wise\"\"\"\n",
    "    def __call__(self, *args, **kwargs) -> Tensor:\n",
    "        \"\"\"Realiza a operação usando os argumentos dados em args\"\"\"\n",
    "        \n",
    "        def _ReLU(a):\n",
    "            return np.maximum(0, a)\n",
    "        \n",
    "        args = self._tensor(args)\n",
    "        results = _ReLU(args[0].numpy())\n",
    "        \n",
    "        return Tensor(results, parents=args, name=NameManager.new('relu'), operation=self)\n",
    "    def grad(self, back_grad: Tensor, *args, **kwargs) -> list[Tensor]:\n",
    "        \"\"\"Retorna a lista de derivadas parciais em relação aos pais (passados em args)\"\"\"\n",
    "        parents = args[0]\n",
    "        derivative = np.where(parents[0].numpy() > 0, 1, 0)\n",
    "        return [Tensor(derivative*back_grad.numpy(), name=NameManager.new(f'{args[0][i]._name}_grad')) for i in range(len(args[0]))]\n",
    "# Instancia a classe. O objeto passa a poder ser usado como uma funcao\n",
    "relu = ReLU()"
   ]
  },
  {
   "cell_type": "code",
   "execution_count": 168,
   "id": "ae499275",
   "metadata": {
    "tags": [
     "sigmoid"
    ]
   },
   "outputs": [],
   "source": [
    "\n",
    "class Sigmoid(Op):\n",
    "    \"\"\"Sigmoid element-wise\"\"\"\n",
    "    results = None\n",
    "    def __call__(self, *args, **kwargs) -> Tensor:\n",
    "        \"\"\"Realiza a operação usando os argumentos dados em args\"\"\"\n",
    "\n",
    "        def _Sigmoid(a):\n",
    "            return 1 / (1 + np.exp(-a))\n",
    "        \n",
    "        args = self._tensor(args)\n",
    "        results = _Sigmoid(args[0].numpy())\n",
    "        \n",
    "        self.results = results.copy()\n",
    "        \n",
    "        return Tensor(results, parents=args, name=NameManager.new('sigmoid'), operation=self)\n",
    "    def grad(self, back_grad: Tensor, *args, **kwargs) -> list[Tensor]:\n",
    "        \"\"\"Retorna a lista de derivadas parciais em relação aos pais (passados em args)\"\"\"\n",
    "        parents = args[0]\n",
    "        \n",
    "        derivative =  self.results * (1 - self.results)\n",
    "        return [Tensor(derivative*back_grad.numpy(), name=NameManager.new(f'{args[0][i]._name}_grad')) for i in range(len(args[0]))]\n",
    "    \n",
    "# Instancia a classe. O objeto passa a poder ser usado como uma funcao\n",
    "sigmoid = Sigmoid()"
   ]
  },
  {
   "cell_type": "code",
   "execution_count": 169,
   "id": "6ce464ba",
   "metadata": {
    "tags": [
     "tanh"
    ]
   },
   "outputs": [],
   "source": [
    "\n",
    "class Tanh(Op):\n",
    "    \"\"\"Tanh element-wise\"\"\"\n",
    "    results = None\n",
    "    def __call__(self, *args, **kwargs) -> Tensor:\n",
    "        \"\"\"Realiza a operação usando os argumentos dados em args\"\"\"\n",
    "        def _Tanh(a):\n",
    "            return np.tanh(a)\n",
    "        \n",
    "        args = self._tensor(args)\n",
    "        results =  _Tanh(args[0].numpy())\n",
    "        \n",
    "        self.results = results.copy()\n",
    "        return Tensor(results, parents=args, name=NameManager.new('tanh'), operation=self)\n",
    "    def grad(self, back_grad: Tensor, *args, **kwargs) -> list[Tensor]:\n",
    "        \"\"\"Retorna a lista de derivadas parciais em relação aos pais (passados em args)\"\"\"\n",
    "        parents = args[0]\n",
    "        derivative =  1 - self.results**2\n",
    "        return [Tensor(derivative*back_grad.numpy(), name=NameManager.new(f'{args[0][i]._name}_grad')) for i in range(len(args[0]))]\n",
    "# Instancia a classe. O objeto passa a poder ser usado como uma funcao\n",
    "tanh = Tanh()"
   ]
  },
  {
   "cell_type": "code",
   "execution_count": 170,
   "id": "f15a37eb",
   "metadata": {
    "tags": [
     "softmax"
    ]
   },
   "outputs": [],
   "source": [
    "\n",
    "class Softmax(Op):\n",
    "    \"\"\"Softmax de um array de valores. Lembre-se que cada elemento do array influencia o resultado da função para todos os demais elementos.\"\"\"\n",
    "    results = None\n",
    "    def __call__(self, *args, **kwargs) -> Tensor:\n",
    "        \"\"\"Realiza a operação usando os argumentos dados em args\"\"\"\n",
    "        def _Softmax(a):\n",
    "            r = np.exp(a - np.max(a))\n",
    "            return r / r.sum(axis=0)\n",
    "        \n",
    "        args = self._tensor(args)\n",
    "        results =  _Softmax(args[0].numpy())\n",
    "        \n",
    "        self.results = results.copy()\n",
    "        return Tensor(results, parents=args, name=NameManager.new('softmax'), operation=self)\n",
    "    def grad(self, back_grad: Tensor, *args, **kwargs) -> list[Tensor]:\n",
    "        \"\"\"Retorna a lista de derivadas parciais em relação aos pais (passados em args)\"\"\"\n",
    "        parents = args[0]\n",
    "        derivative = np.zeros((len(parents[0].numpy()), len(parents[0].numpy())))\n",
    "        print(\"RESULTS:\", self.results)\n",
    "        for i in range(len(parents[0].numpy())):\n",
    "            for j in range(len(parents[0].numpy())):\n",
    "                if i == j: # Diagonal\n",
    "                    derivative[i][j] = self.results[i, 0] * (1 - self.results[j, 0])\n",
    "                else:\n",
    "                    derivative[i][j] = -self.results[i, 0] * self.results[j, 0]\n",
    "                    \n",
    "        return [Tensor(derivative @ back_grad.numpy(), name=NameManager.new(f'{args[0][i]._name}_grad')) for i in range(len(args[0]))]\n",
    "# Instancia a classe. O objeto passa a poder ser usado como uma funcao\n",
    "softmax = Softmax()"
   ]
  },
  {
   "cell_type": "markdown",
   "id": "12256fd7",
   "metadata": {},
   "source": [
    "\n",
    "### ‼️ Regras e Pontos de Atenção‼️\n",
    "\n",
    "- Vamos fazer a hipótese simplificadora que Tensores devem ser sempre matrizes. Por exemplo, o escalar 2 deve ser armazado em `_arr` como a matriz `[[2]]`. De forma similar, a lista `[1, 2, 3]` deve ser armazenada em `_arr` como em uma matriz coluna.\n",
    "\n",
    "- Devem ser realizados `asserts` nas operações para garantir que os shapes dos operandos fazem sentido. Esta verificação também deve ser feita depois das operações que manipulam gradientes de tensores.\n",
    "\n",
    "- Devem ser respeitados os nomes dos atributos, métodos e classes para viabilizar os testes automáticos.\n",
    "\n",
    "- Gradientes devem ser calculados usando uma passada pelo grafo computacional.\n",
    "\n",
    "- Os gradientes devem ser somados e não substituídos nas chamadas de  backward. Isto vai permitir que os gradientes sejam acumulados entre amostras do dataset e que os resultados sejam corretos mesmo em caso de ramificações e junções no grafo computacional.\n",
    "\n",
    "- Lembre-se de zerar os gradientes após cada passo de gradient descent (atualização dos parâmetros).\n"
   ]
  },
  {
   "cell_type": "markdown",
   "id": "fc927248",
   "metadata": {},
   "source": [
    "## Testes Básicos"
   ]
  },
  {
   "cell_type": "markdown",
   "id": "c5ae08a8",
   "metadata": {},
   "source": [
    "Estes testes avaliam se a derivada da função está sendo calculada corretamente, mas em muitos casos **não** avaliam se os gradientes backpropagados estão sendo incorporados corretamente. Esta avaliação será feita nos problemas da próxima seção."
   ]
  },
  {
   "cell_type": "markdown",
   "id": "b05318a9",
   "metadata": {},
   "source": [
    "Operador de Soma"
   ]
  },
  {
   "cell_type": "code",
   "execution_count": 171,
   "id": "9fd20550",
   "metadata": {
    "tags": [
     "test_add"
    ]
   },
   "outputs": [
    {
     "name": "stdout",
     "output_type": "stream",
     "text": [
      "Tensor([[1.]\n",
      " [1.]\n",
      " [1.]], name=in:31, shape=(3, 1))\n",
      "Tensor([[1.]\n",
      " [1.]\n",
      " [1.]], name=in:33, shape=(3, 1))\n"
     ]
    }
   ],
   "source": [
    "# add\n",
    "\n",
    "a = Tensor([1.0, 2.0, 3.0])\n",
    "b = Tensor([4.0, 5.0, 6.0])\n",
    "c = add(a, b)\n",
    "d = add(c, 3.0)\n",
    "d.backward()\n",
    "# print(a.grad)\n",
    "# print(b.grad)\n",
    "\n",
    "# print(\"A\", a)\n",
    "# print(\"A parents\", a._parents)\n",
    "# print(\"A grad\", a.grad)\n",
    "# print()\n",
    "# print(\"B\", b)\n",
    "# print(\"B parents\", b._parents)\n",
    "# print(\"B grad\", b.grad)\n",
    "# print()\n",
    "# print(\"C\", c)\n",
    "# print(\"C parents\", c._parents)\n",
    "# print(\"C grad\", c.grad)\n",
    "# print()\n",
    "# print(\"D\", d)\n",
    "# print(\"D parents\", d._parents)\n",
    "# print(\"D grad\", d.grad)\n",
    "# print()\n",
    "\n",
    "# esperado: matrizes coluna contendo 1\n",
    "print(a.grad)\n",
    "print(b.grad)\n"
   ]
  },
  {
   "cell_type": "markdown",
   "id": "fac72b1a",
   "metadata": {},
   "source": [
    "Operador de Subtração"
   ]
  },
  {
   "cell_type": "code",
   "execution_count": 172,
   "id": "612377aa",
   "metadata": {
    "tags": [
     "test_sub"
    ]
   },
   "outputs": [
    {
     "name": "stdout",
     "output_type": "stream",
     "text": [
      "Tensor([[1.]\n",
      " [1.]\n",
      " [1.]], name=in:57, shape=(3, 1))\n",
      "Tensor([[-1.]\n",
      " [-1.]\n",
      " [-1.]], name=in:59, shape=(3, 1))\n"
     ]
    }
   ],
   "source": [
    "# sub\n",
    "\n",
    "a = Tensor([1.0, 2.0, 3.0])\n",
    "b = Tensor([4.0, 5.0, 6.0])\n",
    "c = sub(a, b)\n",
    "d = sub(c, 3.0)\n",
    "d.backward()\n",
    "\n",
    "# esperado: matrizes coluna contendo 1 e -1\n",
    "print(a.grad)\n",
    "print(b.grad)\n"
   ]
  },
  {
   "cell_type": "markdown",
   "id": "9c7c8e63",
   "metadata": {},
   "source": [
    "Operador de Produto"
   ]
  },
  {
   "cell_type": "code",
   "execution_count": 173,
   "id": "dc60de82",
   "metadata": {
    "tags": [
     "test_prod"
    ]
   },
   "outputs": [
    {
     "name": "stdout",
     "output_type": "stream",
     "text": [
      "Tensor([[12.]\n",
      " [15.]\n",
      " [18.]], name=in:83, shape=(3, 1))\n",
      "Tensor([[3.]\n",
      " [6.]\n",
      " [9.]], name=in:85, shape=(3, 1))\n"
     ]
    }
   ],
   "source": [
    "# prod\n",
    "\n",
    "a = Tensor([1.0, 2.0, 3.0])\n",
    "b = Tensor([4.0, 5.0, 6.0])\n",
    "c = prod(a, b)\n",
    "d = prod(c, 3.0)\n",
    "d.backward()\n",
    "\n",
    "# esperado: [12, 15, 18]^T\n",
    "print(a.grad)\n",
    "# esperado: [3, 6, 9]^T\n",
    "print(b.grad)\n"
   ]
  },
  {
   "cell_type": "markdown",
   "id": "5d91e1c3",
   "metadata": {},
   "source": [
    "Operadores trigonométricos"
   ]
  },
  {
   "cell_type": "code",
   "execution_count": 174,
   "id": "6185a989",
   "metadata": {
    "tags": [
     "test_sin_cos"
    ]
   },
   "outputs": [
    {
     "name": "stdout",
     "output_type": "stream",
     "text": [
      "Tensor([[-1.]\n",
      " [ 1.]\n",
      " [-1.]], name=in:114, shape=(3, 1))\n"
     ]
    }
   ],
   "source": [
    "# sin e cos\n",
    "\n",
    "a = Tensor([np.pi, 0, np.pi/2])\n",
    "b = sin(a)\n",
    "c = cos(a)\n",
    "d = my_sum(add(b, c))\n",
    "d.backward()\n",
    "\n",
    "# esperado: [-1, 1, -1]^T\n",
    "print(a.grad)"
   ]
  },
  {
   "cell_type": "code",
   "execution_count": 175,
   "id": "5f29f232",
   "metadata": {
    "tags": [
     "test_sum"
    ]
   },
   "outputs": [
    {
     "name": "stdout",
     "output_type": "stream",
     "text": [
      "Tensor([[4.]\n",
      " [4.]\n",
      " [4.]\n",
      " [4.]], name=in:143, shape=(4, 1))\n"
     ]
    }
   ],
   "source": [
    "# Sum\n",
    "\n",
    "a = Tensor([3.0, 1.0, 0.0, 2.0])\n",
    "b = add(prod(a, 3.0), a)\n",
    "c = my_sum(b)\n",
    "c.backward()\n",
    "\n",
    "# esperado: [4, 4, 4, 4]^T\n",
    "print(a.grad)\n"
   ]
  },
  {
   "cell_type": "code",
   "execution_count": 176,
   "id": "8943e71a",
   "metadata": {
    "tags": [
     "test_mean"
    ]
   },
   "outputs": [
    {
     "name": "stdout",
     "output_type": "stream",
     "text": [
      "Tensor([[0.25]\n",
      " [0.25]\n",
      " [0.25]\n",
      " [0.25]], name=in:151, shape=(4, 1))\n"
     ]
    }
   ],
   "source": [
    "# Mean\n",
    "\n",
    "a = Tensor([3.0, 1.0, 0.0, 2.0])\n",
    "b = mean(a)\n",
    "b.backward()\n",
    "\n",
    "# esperado: [0.25, 0.25, 0.25, 0.25]^T\n",
    "print(a.grad)\n"
   ]
  },
  {
   "cell_type": "code",
   "execution_count": 177,
   "id": "1c7dbd2c",
   "metadata": {
    "tags": [
     "test_square"
    ]
   },
   "outputs": [
    {
     "name": "stdout",
     "output_type": "stream",
     "text": [
      "Tensor([[9.]\n",
      " [1.]\n",
      " [0.]\n",
      " [4.]], name=square:0, shape=(4, 1))\n",
      "Tensor([[6.]\n",
      " [2.]\n",
      " [0.]\n",
      " [4.]], name=in:159, shape=(4, 1))\n"
     ]
    }
   ],
   "source": [
    "# Square\n",
    "\n",
    "a = Tensor([3.0, 1.0, 0.0, 2.0])\n",
    "b = square(a)\n",
    "\n",
    "# esperado: [9, 1, 0, 4]^T\n",
    "print(b)\n",
    "\n",
    "b.backward()\n",
    "\n",
    "# esperado: [6, 2, 0, 4]\n",
    "print(a.grad)"
   ]
  },
  {
   "cell_type": "code",
   "execution_count": 178,
   "id": "02f2ead7",
   "metadata": {
    "tags": [
     "test_matmul"
    ]
   },
   "outputs": [
    {
     "name": "stdout",
     "output_type": "stream",
     "text": [
      "Tensor([[14.]\n",
      " [32.]\n",
      " [50.]], name=matmul:0, shape=(3, 1))\n",
      "Tensor([[1. 2. 3.]\n",
      " [1. 2. 3.]\n",
      " [1. 2. 3.]], name=in:171, shape=(3, 3))\n",
      "Tensor([[12.]\n",
      " [15.]\n",
      " [18.]], name=in:173, shape=(3, 1))\n"
     ]
    }
   ],
   "source": [
    "# matmul\n",
    "\n",
    "W = Tensor([\n",
    "    [1.0, 2.0, 3.0],\n",
    "    [4.0, 5.0, 6.0],\n",
    "    [7.0, 8.0, 9.0]\n",
    "])\n",
    "\n",
    "v = Tensor([1.0, 2.0, 3.0])\n",
    "\n",
    "z = matmul(W, v)\n",
    "\n",
    "# esperado: [14, 32, 50]^T\n",
    "print(z)\n",
    "\n",
    "z.backward()\n",
    "\n",
    "# esperado:\n",
    "# [1, 2, 3]\n",
    "# [1, 2, 3]\n",
    "# [1, 2, 3]\n",
    "print(W.grad)\n",
    "\n",
    "# esperado: [12, 15, 18]^T\n",
    "print(v.grad)\n"
   ]
  },
  {
   "cell_type": "code",
   "execution_count": 179,
   "id": "706212d2",
   "metadata": {
    "tags": [
     "test_exp"
    ]
   },
   "outputs": [
    {
     "name": "stdout",
     "output_type": "stream",
     "text": [
      "Tensor([[ 2.71828183]\n",
      " [ 7.3890561 ]\n",
      " [20.08553692]], name=exp:0, shape=(3, 1))\n",
      "Tensor([[ 2.71828183]\n",
      " [ 7.3890561 ]\n",
      " [20.08553692]], name=in:181, shape=(3, 1))\n"
     ]
    }
   ],
   "source": [
    "# Exp\n",
    "\n",
    "v = Tensor([1.0, 2.0, 3.0])\n",
    "w = exp(v)\n",
    "\n",
    "# esperado: [2.718..., 7.389..., 20.085...]^T\n",
    "print(w)\n",
    "\n",
    "w.backward()\n",
    "\n",
    "# esperado: [2.718..., 7.389..., 20.085...]^T\n",
    "print(v.grad)"
   ]
  },
  {
   "cell_type": "code",
   "execution_count": 180,
   "id": "9510d010",
   "metadata": {
    "tags": [
     "test_relu"
    ]
   },
   "outputs": [
    {
     "name": "stdout",
     "output_type": "stream",
     "text": [
      "Tensor([[0.]\n",
      " [0.]\n",
      " [1.]\n",
      " [3.]], name=relu:0, shape=(4, 1))\n",
      "Tensor([[0.]\n",
      " [0.]\n",
      " [1.]\n",
      " [1.]], name=in:189, shape=(4, 1))\n"
     ]
    }
   ],
   "source": [
    "# Relu\n",
    "\n",
    "v = Tensor([-1.0, 0.0, 1.0, 3.0])\n",
    "w = relu(v)\n",
    "\n",
    "# esperado: [0, 0, 1, 3]^T\n",
    "print(w)\n",
    "\n",
    "w.backward()\n",
    "\n",
    "# esperado: [0, 0, 1, 1]^T\n",
    "print(v.grad)"
   ]
  },
  {
   "cell_type": "code",
   "execution_count": 181,
   "id": "2f0fbf8d",
   "metadata": {
    "tags": [
     "test_sigmoid"
    ]
   },
   "outputs": [
    {
     "name": "stdout",
     "output_type": "stream",
     "text": [
      "Tensor([[0.26894142]\n",
      " [0.5       ]\n",
      " [0.73105858]\n",
      " [0.95257413]], name=sigmoid:0, shape=(4, 1))\n",
      "Tensor([[0.19661193]\n",
      " [0.25      ]\n",
      " [0.19661193]\n",
      " [0.04517666]], name=in:197, shape=(4, 1))\n"
     ]
    }
   ],
   "source": [
    "# Sigmoid\n",
    "\n",
    "v = Tensor([-1.0, 0.0, 1.0, 3.0])\n",
    "w = sigmoid(v)\n",
    "\n",
    "# esperado: [0.268.., 0.5, 0.731.., 0.952..]^T\n",
    "print(w)\n",
    "\n",
    "w.backward()\n",
    "\n",
    "# esperado: [0.196..., 0.25, 0.196..., 0.045...]^T\n",
    "print(v.grad)"
   ]
  },
  {
   "cell_type": "code",
   "execution_count": 182,
   "id": "7e867dec",
   "metadata": {
    "tags": [
     "test_tanh"
    ]
   },
   "outputs": [
    {
     "name": "stdout",
     "output_type": "stream",
     "text": [
      "Tensor([[-0.76159416]\n",
      " [ 0.        ]\n",
      " [ 0.76159416]\n",
      " [ 0.99505475]], name=tanh:0, shape=(4, 1))\n",
      "Tensor([[0.41997434]\n",
      " [1.        ]\n",
      " [0.41997434]\n",
      " [0.00986604]], name=in:205, shape=(4, 1))\n"
     ]
    }
   ],
   "source": [
    "# Tanh\n",
    "\n",
    "v = Tensor([-1.0, 0.0, 1.0, 3.0])\n",
    "w = tanh(v)\n",
    "\n",
    "# esperado: [[-0.76159416, 0., 0.76159416, 0.99505475]^T\n",
    "print(w)\n",
    "\n",
    "w.backward()\n",
    "\n",
    "# esperado: [0.41997434, 1., 0.41997434, 0.00986604]^T\n",
    "print(v.grad)"
   ]
  },
  {
   "cell_type": "code",
   "execution_count": 183,
   "id": "7fd3235d",
   "metadata": {
    "tags": [
     "test_softmax"
    ]
   },
   "outputs": [
    {
     "name": "stdout",
     "output_type": "stream",
     "text": [
      "Tensor([[0.00381737]\n",
      " [0.13970902]\n",
      " [0.23034123]\n",
      " [0.62613238]], name=softmax:0, shape=(4, 1))\n",
      "MSE: Tensor([[0.36424932]], name=mean:1, shape=(1, 1))\n",
      "RESULTS: [[0.00381737]\n",
      " [0.13970902]\n",
      " [0.23034123]\n",
      " [0.62613238]]\n",
      "Tensor([[-0.00278095]\n",
      " [-0.02243068]\n",
      " [-0.02654377]\n",
      " [ 0.05175539]], name=in:233, shape=(4, 1))\n"
     ]
    }
   ],
   "source": [
    "# Softmax\n",
    "\n",
    "x = Tensor([-3.1, 0.5, 1.0, 2.0])\n",
    "y = softmax(x)\n",
    "\n",
    "# esperado: [0.00381737, 0.13970902, 0.23034123, 0.62613238]^T\n",
    "print(y)\n",
    "\n",
    "# como exemplo, calcula o MSE para um target vector\n",
    "diff = sub(y, [1, 0, 0, 0])\n",
    "sq = square(diff)\n",
    "a = mean(sq)\n",
    "\n",
    "# esperado: 0.36424932\n",
    "print(\"MSE:\", a)\n",
    "\n",
    "a.backward()\n",
    "\n",
    "# esperado: [-0.00278095, -0.02243068, -0.02654377, 0.05175539]^T\n",
    "print(x.grad)"
   ]
  },
  {
   "cell_type": "markdown",
   "id": "c27a3d9f",
   "metadata": {},
   "source": [
    "## Pontos Extras\n",
    "\n",
    "### Tarefas\n",
    "\n",
    "- **+2 pontos**: Utilizar sobrecarga de operadores para permitir que todas as operações disponíveis aos arrays do numpy possam ser realizadas com tensores, incluindo operações que envolvam broadcasting.\n",
    "  - Por exemplo, assumindo que a e b são tensores possivelmente com dimensões diferentes, devem ser possível realizar as operações a + 2, a * b, a @ b, a.max(), a.sum(axis=0).\n",
    "  - Para realizar esta atividade, os atributos da classe Tensor podem ser completamente modificados, mas deve ser provido um método backward para iniciar o backpropagation.\n",
    "  - Naturalmente, a regra de que tensores devem ser matrizes deve ser desconsiderada neste caso.\n",
    "\n",
    "- **+1 ponto**: Atualizar as classes para permitir derivadas de mais alta ordem (derivadas segundas, etc.).\n",
    "\n",
    "- **+1 ponto**: Entregar uma versão adicional do trabalho completo usando C/C++ e com foco em minimizar o tempo para realização das operações. Os casos de teste do sistema Testr também deverão ser replicados utilizando esta linguagem.\n",
    "\n",
    "### Regras\n",
    "\n",
    "- Só serão elegíveis para receber pontos extras os alunos que cumprirem 100% dos requisitos da parte principal do trabalho.\n",
    "\n",
    "- Para receber os pontos extras, deverá ser agendado um horário para uma entrevista individual que abordará tanto os códigos-fonte relativos aos pontos extras quanto à parte principal do trabalho (pode acontecer redução da pontuação da parte principal do trabalho).\n",
    "\n",
    "- Receberá os pontos extras quem responder corretamente às perguntas da entrevista. Não será atribuída pontuação parcial aos pontos extras.\n",
    "\n",
    "## Referências\n",
    "\n",
    "### Principais\n",
    "\n",
    "- [Build your own pytorch](https://www.peterholderrieth.com/blog/2023/Build-Your-Own-Pytorch-1-Computation-Graphs/)\n",
    "- [Build your own Pytorch - 2: Backpropagation](https://www.peterholderrieth.com/blog/2023/Build-Your-Own-Pytorch-2-Autograd/)\n",
    "- [Build your own PyTorch - 3: Training a Neural Network with self-made AD software](https://www.peterholderrieth.com/blog/2023/Build-Your-Own-Pytorch-3-Build-Classifier/)\n",
    "- [Pytorch: A Gentle Introduction to torch.autograd](https://docs.pytorch.org/tutorials/beginner/blitz/autograd_tutorial.html)\n",
    "- [Automatic Differentiation with torch.autograd](https://docs.pytorch.org/tutorials/beginner/basics/autogradqs_tutorial.html)\n",
    "\n",
    "### Secundárias\n",
    "\n",
    "- [Tom Roth: Building a computational graph: part 1](https://tomroth.dev/compgraph1/)\n",
    "- [Tom Roth: Building a computational graph: part 2](https://tomroth.dev/compgraph2/)\n",
    "- [Tom Roth: Building a computational graph: part 3](https://tomroth.dev/compgraph3/)\n",
    "- [Roger Grosse (Toronto) class on Automatic Differentiation](https://www.cs.toronto.edu/~rgrosse/courses/csc321_2018/slides/lec10.pdf)\n",
    "- [Computational graphs and gradient flows](https://simple-english-machine-learning.readthedocs.io/en/latest/neural-networks/computational-graphs.html)\n",
    "- [Colah Visual Blog: Backprop](https://colah.github.io/posts/2015-08-Backprop/)\n",
    "- [Towards Data Science: Automatic Differentiation (AutoDiff): A Brief Intro with Examples](https://towardsdatascience.com/automatic-differentiation-autodiff-a-brief-intro-with-examples-3f3d257ffe3b/)\n",
    "- [A Hands-on Introduction to Automatic Differentiation - Part 1](https://mostafa-samir.github.io/auto-diff-pt1/)\n",
    "- [Build Your own Deep Learning Framework - A Hands-on Introduction to Automatic Differentiation - Part 2](https://mostafa-samir.github.io/auto-diff-pt1/)\n"
   ]
  },
  {
   "cell_type": "markdown",
   "id": "485ca933",
   "metadata": {},
   "source": [
    "### Preparação"
   ]
  },
  {
   "cell_type": "markdown",
   "id": "9e46654e",
   "metadata": {},
   "source": [
    "Função para realizar a descida de gradiente para uma dada função objetivo."
   ]
  },
  {
   "cell_type": "code",
   "execution_count": 184,
   "id": "c55c1eb4",
   "metadata": {},
   "outputs": [],
   "source": [
    "def convert_simple_type(var):\n",
    "    var = var.numpy().copy().squeeze()\n",
    "    if len(var.shape) == 0:\n",
    "        return float(var)\n",
    "    else:\n",
    "        return var.tolist()\n",
    "\n",
    "def gd(objective_fn, n_epochs, lr, inputs):\n",
    "    history = []\n",
    "\n",
    "    for epoch in range(n_epochs):\n",
    "        for var in inputs:\n",
    "            var.zero_grad()\n",
    "\n",
    "        loss = objective_fn(inputs)\n",
    "        loss.backward()\n",
    "\n",
    "        history.append({\n",
    "            \"loss\": convert_simple_type(loss),\n",
    "            \"vars\": [convert_simple_type(var) for var in inputs],\n",
    "            \"grads\": [convert_simple_type(var.grad) for var in inputs],\n",
    "        })\n",
    "\n",
    "        for var in inputs:\n",
    "            var._arr -= lr * var.grad.numpy()\n",
    "\n",
    "        if (n_epochs < 20) or (epoch % (n_epochs // 20) == 0):\n",
    "            print(loss.numpy())\n",
    "\n",
    "    return history"
   ]
  },
  {
   "cell_type": "markdown",
   "id": "27297e89",
   "metadata": {},
   "source": [
    "### Mínimo de uma onda de seno"
   ]
  },
  {
   "cell_type": "code",
   "execution_count": 185,
   "id": "3b2e1b46",
   "metadata": {},
   "outputs": [
    {
     "name": "stdout",
     "output_type": "stream",
     "text": [
      "[[0.93799998]]\n",
      "[[0.80726691]]\n",
      "[[0.45052848]]\n",
      "[[-0.24435302]]\n",
      "[[-0.85346668]]\n",
      "[[-0.99139556]]\n",
      "[[-0.99964739]]\n",
      "[[-0.99998588]]\n",
      "[[-0.99999944]]\n",
      "[[-0.99999998]]\n"
     ]
    }
   ],
   "source": [
    "NameManager.reset()\n",
    "\n",
    "def fn(inputs):\n",
    "    x = inputs[0]\n",
    "    return sin(add(prod(x, 2), 0.5))\n",
    "\n",
    "x = Tensor(3.5)\n",
    "history = gd(fn, 10, 0.2, [x])\n"
   ]
  },
  {
   "cell_type": "code",
   "execution_count": 186,
   "id": "fa74f059",
   "metadata": {},
   "outputs": [
    {
     "data": {
      "text/plain": [
       "[<matplotlib.lines.Line2D at 0x7e6a9055aa20>]"
      ]
     },
     "execution_count": 186,
     "metadata": {},
     "output_type": "execute_result"
    },
    {
     "data": {
      "image/png": "[encoded data removed]",
      "text/plain": [
       "<Figure size 640x480 with 1 Axes>"
      ]
     },
     "metadata": {},
     "output_type": "display_data"
    }
   ],
   "source": [
    "\n",
    "x = [h['vars'][0] for h in history]\n",
    "y = [h['loss'] for h in history]\n",
    "\n",
    "x_fn = np.arange(1.5, 5, 0.1)\n",
    "y_fn = [fn([x]).numpy().squeeze() for x in x_fn]\n",
    "\n",
    "plt.plot(x_fn, y_fn, '-')\n",
    "plt.plot(x, y, 'o')\n"
   ]
  },
  {
   "cell_type": "markdown",
   "id": "7fde8340",
   "metadata": {},
   "source": [
    "### Regressão de Parábola"
   ]
  },
  {
   "cell_type": "code",
   "execution_count": 187,
   "id": "4aaa0ff6",
   "metadata": {},
   "outputs": [
    {
     "name": "stdout",
     "output_type": "stream",
     "text": [
      "[[468.11988]]\n",
      "[[11.23744573]]\n",
      "[[8.23565315]]\n",
      "[[6.03611735]]\n",
      "[[4.4240224]]\n",
      "[[3.24247741]]\n",
      "[[2.37649334]]\n",
      "[[1.74179181]]\n",
      "[[1.27660308]]\n",
      "[[0.93565454]]\n",
      "[[0.68576477]]\n",
      "[[0.50261427]]\n",
      "[[0.36837865]]\n",
      "[[0.26999399]]\n",
      "[[0.19788539]]\n",
      "[[0.14503519]]\n",
      "[[0.10629994]]\n",
      "[[0.0779099]]\n",
      "[[0.05710213]]\n",
      "[[0.04185159]]\n"
     ]
    }
   ],
   "source": [
    "NameManager.reset()\n",
    "\n",
    "# optimize coefficients\n",
    "a = Tensor(1)\n",
    "b = Tensor(1)\n",
    "c = Tensor(1)\n",
    "\n",
    "class LossFn:\n",
    "    def __init__(self):\n",
    "        # generate dataset\n",
    "        self.x = np.arange(-5, 5, 0.2)\n",
    "        self.y = -0.5 * self.x ** 2 + 1 * self.x - 5\n",
    "\n",
    "    def __call__(self, inputs):\n",
    "        a, b, c = inputs\n",
    "\n",
    "        total_loss = Tensor(0.0)\n",
    "\n",
    "        for x_i, y_i in zip(self.x, self.y):\n",
    "            prd = add(add(prod(a, x_i ** 2), prod(b, x_i)), c)\n",
    "            loss = prod(square(sub(y_i, prd)), 1/len(self.x))\n",
    "            total_loss = add(total_loss, loss)\n",
    "\n",
    "        return total_loss\n",
    "\n",
    "loss_fn = LossFn()\n",
    "params = [a, b, c]\n",
    "history = gd(loss_fn, 500, 7e-3, params)\n",
    "\n"
   ]
  },
  {
   "cell_type": "code",
   "execution_count": 188,
   "id": "1412f8a3",
   "metadata": {},
   "outputs": [
    {
     "data": {
      "image/png": "[encoded data removed]",
      "text/plain": [
       "<Figure size 640x480 with 2 Axes>"
      ]
     },
     "metadata": {},
     "output_type": "display_data"
    }
   ],
   "source": [
    "\n",
    "plt.subplot(1, 2, 2)\n",
    "\n",
    "a0, b0, c0 = history[0]['vars']\n",
    "\n",
    "init_prd = a0 * loss_fn.x ** 2 + b0 * loss_fn.x + c0\n",
    "final_prd = a.numpy().squeeze() * loss_fn.x ** 2 + b.numpy().squeeze() * loss_fn.x + c.numpy().squeeze()\n",
    "\n",
    "plt.subplot(1, 2, 1)\n",
    "plt.title('before training')\n",
    "plt.plot(loss_fn.x, loss_fn.y, 'o', color='black', label='points')\n",
    "plt.plot(loss_fn.x, init_prd, '-', color='orange', label='model')\n",
    "plt.legend()\n",
    "plt.subplot(1, 2, 2)\n",
    "plt.title('after training')\n",
    "plt.plot(loss_fn.x, loss_fn.y, 'o', color='black', label='points')\n",
    "plt.plot(loss_fn.x, final_prd, '-', color='orange', label='model')\n",
    "plt.legend()\n",
    "\n",
    "plt.show()\n",
    "\n"
   ]
  },
  {
   "cell_type": "markdown",
   "id": "8aa1579e",
   "metadata": {},
   "source": [
    "### Regressão de Funções Periódicas"
   ]
  },
  {
   "cell_type": "code",
   "execution_count": 189,
   "id": "5eb0f9d8",
   "metadata": {},
   "outputs": [
    {
     "name": "stdout",
     "output_type": "stream",
     "text": [
      "[[1.46293346]]\n",
      "[[1.28963745]]\n",
      "[[1.09799693]]\n",
      "[[0.90194422]]\n",
      "[[0.7153339]]\n",
      "[[0.5485333]]\n",
      "[[0.40753614]]\n",
      "[[0.29423467]]\n",
      "[[0.20722436]]\n",
      "[[0.14297783]]\n",
      "[[0.09706196]]\n",
      "[[0.06508453]]\n",
      "[[0.04324698]]\n",
      "[[0.028547]]\n",
      "[[0.01875356]]\n",
      "[[0.01227707]]\n",
      "[[0.0080168]]\n",
      "[[0.00522509]]\n",
      "[[0.00340081]]\n",
      "[[0.00221116]]\n"
     ]
    }
   ],
   "source": [
    "NameManager.reset()\n",
    "\n",
    "class SinRegLossFn:\n",
    "    def __init__(self):\n",
    "        self.x = np.arange(-3.0, 3.0, 0.2)\n",
    "        self.y = np.sin(self.x * 5 + 1)\n",
    "\n",
    "    def __call__(self, inputs):\n",
    "        a, m = inputs\n",
    "\n",
    "        total_loss = Tensor(0.0)\n",
    "\n",
    "        for x_i, y_i in zip(self.x, self.y):\n",
    "            prd = sin(add(prod(x_i, m), a))\n",
    "            loss = prod(square(sub(y_i, prd)), 1/len(self.x))\n",
    "            total_loss = add(total_loss, loss)\n",
    "\n",
    "        return total_loss\n",
    "\n",
    "# optimize coefficients\n",
    "a = Tensor(5.2)\n",
    "m = Tensor(5)\n",
    "\n",
    "np.random.seed(1)\n",
    "loss_fn = SinRegLossFn()\n",
    "params = [a, m]\n",
    "history = gd(loss_fn, 20, 2e-1, params)\n"
   ]
  },
  {
   "cell_type": "code",
   "execution_count": 190,
   "id": "8b62f921",
   "metadata": {},
   "outputs": [
    {
     "data": {
      "image/png": "[encoded data removed]",
      "text/plain": [
       "<Figure size 1000x500 with 1 Axes>"
      ]
     },
     "metadata": {},
     "output_type": "display_data"
    }
   ],
   "source": [
    "# dados apenas para plotar com mais suavidade\n",
    "all_x = np.arange(-3.0, 3.0, 0.05)\n",
    "all_y = np.sin(all_x * 5 + 1)\n",
    "\n",
    "a, m = history[-1]['vars']\n",
    "prd_y = np.sin(all_x * m + a)\n",
    "\n",
    "plt.close('all')\n",
    "plt.figure(figsize=(10, 5))\n",
    "plt.plot(all_x, all_y, '-', color='black', label='true')\n",
    "plt.plot(loss_fn.x, loss_fn.y, 'o', color='blue', label='train')\n",
    "plt.plot(all_x, prd_y, '-', color='orange', label='model')\n",
    "plt.legend()\n",
    "plt.show()"
   ]
  },
  {
   "cell_type": "markdown",
   "id": "0b8818b5",
   "metadata": {},
   "source": [
    "## Regressão com Redes Neurais"
   ]
  },
  {
   "cell_type": "markdown",
   "id": "f9a7ac4c",
   "metadata": {},
   "source": [
    "Fazemos um treino com cada tipo de função de ativação."
   ]
  },
  {
   "cell_type": "code",
   "execution_count": 191,
   "id": "3fbb92ac",
   "metadata": {},
   "outputs": [
    {
     "name": "stdout",
     "output_type": "stream",
     "text": [
      "[[0.60539212]]\n",
      "[[0.0852884]]\n",
      "[[0.05724559]]\n",
      "[[0.04534972]]\n",
      "[[0.04023955]]\n",
      "[[0.03703433]]\n",
      "[[0.03409913]]\n",
      "[[0.03161883]]\n",
      "[[0.02931419]]\n",
      "[[0.02811975]]\n",
      "[[0.02716084]]\n",
      "[[0.02635995]]\n",
      "[[0.02567843]]\n",
      "[[0.02507809]]\n",
      "[[0.02453386]]\n",
      "[[0.02403302]]\n",
      "[[0.02356425]]\n",
      "[[0.0231234]]\n",
      "[[0.02274007]]\n",
      "[[0.02235428]]\n"
     ]
    }
   ],
   "source": [
    "\n",
    "NameManager.reset()\n",
    "\n",
    "\n",
    "def init(nrows, ncols):\n",
    "    return 0.1 * np.random.normal(size=(nrows, ncols))\n",
    "\n",
    "class Mlp:\n",
    "    def __init__(self, act_fn):\n",
    "        self._act_fn = act_fn\n",
    "\n",
    "        self._w0 = Tensor(init(64, 1), name='weights')\n",
    "        self._b0 = Tensor(init(64, 1), name='bias')\n",
    "\n",
    "        self._w1 = Tensor(init(64, 64), name='weights')\n",
    "        self._b1 = Tensor(init(64, 1), name='bias')\n",
    "\n",
    "        self._w2 = Tensor(init(1, 64), name='weights')\n",
    "        self._b2 = Tensor(init(1, 1), name='bias')\n",
    "\n",
    "    def forward(self, x):\n",
    "        z0 = add(matmul(self._w0, x), self._b0)\n",
    "        h0 = self._act_fn(z0)\n",
    "\n",
    "        z1 = add(matmul(self._w1, h0), self._b1)\n",
    "        h1 = self._act_fn(z1)\n",
    "\n",
    "        y = add(matmul(self._w2, h1), self._b2)\n",
    "\n",
    "        return y\n",
    "\n",
    "    def parameters(self):\n",
    "        return [self._w0, self._b0, self._w1, self._b1]\n",
    "\n",
    "\n",
    "class NeuralSinRegLossFn:\n",
    "    def __init__(self, mlp):\n",
    "        self.x = np.arange(-3.0, 3.0, 0.2)\n",
    "        self.y = np.sin(self.x)\n",
    "        self.y += np.random.normal(size=self.y.shape) * 0.2\n",
    "        self.mlp = mlp\n",
    "\n",
    "    def __call__(self, inputs):\n",
    "        # vamos usar a mlp diretamente dado que seus\n",
    "        # parametros sao armazenados por referencia\n",
    "\n",
    "        total_loss = Tensor(0.0)\n",
    "\n",
    "        for x_i, y_i in zip(self.x, self.y):\n",
    "            prd = self.mlp.forward(x_i)\n",
    "            loss = prod(square(sub(y_i, prd)), 1/len(self.x))\n",
    "            total_loss = add(total_loss, loss)\n",
    "\n",
    "        return total_loss\n",
    "\n",
    "np.random.seed(1)\n",
    "mlp = Mlp(relu)\n",
    "loss_fn = NeuralSinRegLossFn(mlp)\n",
    "params = mlp.parameters()\n",
    "history = gd(loss_fn, 3000, 1e-1, params)"
   ]
  },
  {
   "cell_type": "code",
   "execution_count": 192,
   "id": "55421352",
   "metadata": {},
   "outputs": [
    {
     "data": {
      "image/png": "[encoded data removed]",
      "text/plain": [
       "<Figure size 1000x500 with 1 Axes>"
      ]
     },
     "metadata": {},
     "output_type": "display_data"
    }
   ],
   "source": [
    "# dados apenas para plotar com mais suavidade\n",
    "all_x = np.arange(-3.0, 3.0, 0.05)\n",
    "all_y = np.sin(all_x)\n",
    "\n",
    "prd_y = [mlp.forward(x_i).numpy().squeeze() for x_i in all_x]\n",
    "\n",
    "plt.close('all')\n",
    "plt.figure(figsize=(10, 5))\n",
    "plt.plot(all_x, all_y, '-', color='black', label='true')\n",
    "plt.plot(loss_fn.x, loss_fn.y, 'o', color='blue', label='train')\n",
    "plt.plot(all_x, prd_y, '-', color='orange', label='model')\n",
    "plt.legend()\n",
    "plt.show()"
   ]
  },
  {
   "cell_type": "markdown",
   "id": "1224d219",
   "metadata": {},
   "source": [
    "Usando a `tanh` como função de ativação."
   ]
  },
  {
   "cell_type": "code",
   "execution_count": null,
   "id": "04877b3d",
   "metadata": {},
   "outputs": [
    {
     "name": "stdout",
     "output_type": "stream",
     "text": [
      "[[0.64213178]]\n",
      "[[0.19237464]]\n",
      "[[0.19303873]]\n",
      "[[0.19372081]]\n",
      "[[0.19431649]]\n",
      "[[0.19480904]]\n"
     ]
    }
   ],
   "source": [
    "\n",
    "np.random.seed(1)\n",
    "mlp = Mlp(tanh)\n",
    "loss_fn = NeuralSinRegLossFn(mlp)\n",
    "params = mlp.parameters()\n",
    "history = gd(loss_fn, 3000, 1e-1, params)"
   ]
  },
  {
   "cell_type": "code",
   "execution_count": null,
   "id": "334078a5",
   "metadata": {},
   "outputs": [
    {
     "data": {
      "image/png": "[encoded data removed]",
      "text/plain": [
       "<Figure size 1000x500 with 1 Axes>"
      ]
     },
     "metadata": {},
     "output_type": "display_data"
    }
   ],
   "source": [
    "# dados apenas para plotar com mais suavidade\n",
    "all_x = np.arange(-3.0, 3.0, 0.05)\n",
    "all_y = np.sin(all_x)\n",
    "\n",
    "prd_y = [mlp.forward(x_i).numpy().squeeze() for x_i in all_x]\n",
    "\n",
    "plt.close('all')\n",
    "plt.figure(figsize=(10, 5))\n",
    "plt.plot(all_x, all_y, '-', color='black', label='true')\n",
    "plt.plot(loss_fn.x, loss_fn.y, 'o', color='blue', label='train')\n",
    "plt.plot(all_x, prd_y, '-', color='orange', label='model')\n",
    "plt.legend()\n",
    "plt.show()"
   ]
  },
  {
   "cell_type": "markdown",
   "id": "2cec67cf",
   "metadata": {},
   "source": [
    "Usando a sigmoide."
   ]
  },
  {
   "cell_type": "code",
   "execution_count": null,
   "id": "a933c97a",
   "metadata": {},
   "outputs": [
    {
     "name": "stdout",
     "output_type": "stream",
     "text": [
      "[[0.61286181]]\n",
      "[[0.13933899]]\n",
      "[[0.0890533]]\n",
      "[[0.06184236]]\n",
      "[[0.0515937]]\n",
      "[[0.04756851]]\n",
      "[[0.04563713]]\n",
      "[[0.04439965]]\n",
      "[[0.04341436]]\n",
      "[[0.04254533]]\n",
      "[[0.04174883]]\n",
      "[[0.0410142]]\n",
      "[[0.04034116]]\n",
      "[[0.03972749]]\n",
      "[[0.03916814]]\n",
      "[[0.03865725]]\n",
      "[[0.03818912]]\n",
      "[[0.03775854]]\n",
      "[[0.03736089]]\n",
      "[[0.0369924]]\n"
     ]
    }
   ],
   "source": [
    "\n",
    "np.random.seed(1)\n",
    "mlp = Mlp(sigmoid)\n",
    "loss_fn = NeuralSinRegLossFn(mlp)\n",
    "params = mlp.parameters()\n",
    "history = gd(loss_fn, 3000, 7e-1, params)"
   ]
  },
  {
   "cell_type": "code",
   "execution_count": null,
   "id": "2f4c3a0a",
   "metadata": {},
   "outputs": [
    {
     "data": {
      "image/png": "[encoded data removed]",
      "text/plain": [
       "<Figure size 1000x500 with 1 Axes>"
      ]
     },
     "metadata": {},
     "output_type": "display_data"
    }
   ],
   "source": [
    "# dados apenas para plotar com mais suavidade\n",
    "all_x = np.arange(-3.0, 3.0, 0.05)\n",
    "all_y = np.sin(all_x)\n",
    "\n",
    "prd_y = [mlp.forward(x_i).numpy().squeeze() for x_i in all_x]\n",
    "\n",
    "plt.close('all')\n",
    "plt.figure(figsize=(10, 5))\n",
    "plt.plot(all_x, all_y, '-', color='black', label='true')\n",
    "plt.plot(loss_fn.x, loss_fn.y, 'o', color='blue', label='train')\n",
    "plt.plot(all_x, prd_y, '-', color='orange', label='model')\n",
    "plt.legend()\n",
    "plt.show()"
   ]
  },
  {
   "cell_type": "code",
   "execution_count": null,
   "id": "3272a059",
   "metadata": {},
   "outputs": [],
   "source": [
    "import pickle\n",
    "\n",
    "with open(\"data.pkl\", \"wb\") as f:\n",
    "    pickle.dump(results, f)"
   ]
  }
 ],
 "metadata": {
  "jupytext": {
   "cell_metadata_filter": "-all",
   "main_language": "python",
   "notebook_metadata_filter": "-all"
  },
  "kernelspec": {
   "display_name": "RedesNeurais",
   "language": "python",
   "name": "python3"
  },
  "language_info": {
   "codemirror_mode": {
    "name": "ipython",
    "version": 3
   },
   "file_extension": ".py",
   "mimetype": "text/x-python",
   "name": "python",
   "nbconvert_exporter": "python",
   "pygments_lexer": "ipython3",
   "version": "3.10.12"
  }
 },
 "nbformat": 4,
 "nbformat_minor": 5
}
